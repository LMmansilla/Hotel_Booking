{
 "cells": [
  {
   "cell_type": "markdown",
   "id": "da2df195",
   "metadata": {},
   "source": [
    "### Preyecto Hotel Booking - Análisis y Predicción\n",
    "\n",
    "- Predicción de cancelaciones de reservas\n",
    "- Análisis de tendencias temporales\n",
    "- Segmentación de clientes\n",
    "- Análisis de precios y tarifas\n",
    "- Evaluación de la satisfacción del cliente\n",
    "- Predicción de demanda\n",
    "\n",
    "\n",
    "\n",
    "Fuente: https://www.kaggle.com/datasets/mojtaba142/hotel-booking"
   ]
  },
  {
   "cell_type": "code",
   "execution_count": 2,
   "id": "b0a15379",
   "metadata": {},
   "outputs": [],
   "source": [
    "import pandas as pd\n",
    "import matplotlib.pyplot as plt"
   ]
  },
  {
   "cell_type": "code",
   "execution_count": 3,
   "id": "c3bc67d3",
   "metadata": {},
   "outputs": [],
   "source": [
    "# Configuraraciones\n",
    "pd.set_option('display.max_columns', None)"
   ]
  },
  {
   "cell_type": "code",
   "execution_count": 4,
   "id": "09a4e0f1",
   "metadata": {},
   "outputs": [],
   "source": [
    "# Se carga el Dataset\n",
    "hotel_booking = pd.read_csv('../data/hotel_booking.csv')"
   ]
  },
  {
   "cell_type": "markdown",
   "id": "7b8bd904",
   "metadata": {},
   "source": [
    "#### Nombre y definición de variables\n",
    "\n",
    "- **hotel**: El nombre del hotel.\n",
    "- **is_canceled**: Indica si la reserva fue cancelada (1) o no (0).\n",
    "- **lead_time**: El número de días que pasaron desde la fecha de reserva hasta la fecha de llegada.\n",
    "- **arrival_date_year**: El año de llegada.\n",
    "- **arrival_date_month**: El mes de llegada.\n",
    "- **arrival_date_week_number**: El número de semana del año en que llegaron los huéspedes.\n",
    "- **arrival_date_day_of_month**: El día del mes de llegada.\n",
    "- **stays_in_weekend_nights**: El número de noches que el cliente se quedó durante los fines de semana.\n",
    "- **stays_in_week_nights**: El número de noches que el cliente se quedó durante la semana.\n",
    "- **adults**: El número de adultos en la reserva.\n",
    "- **children**: El número de niños en la reserva.\n",
    "- **babies**: El número de bebés en la reserva.\n",
    "- **meal**: El tipo de comida reservada.\n",
    "- **country**: El país de origen del cliente.\n",
    "- **market_segment**: El segmento de mercado al que pertenece la reserva.\n",
    "- **distribution_channel**: El canal de distribución utilizado para realizar la reserva.\n",
    "- **is_repeated_guest**: Indica si el cliente es un huésped repetido (1) o no (0).\n",
    "- **previous_cancellations**: El número de reservas canceladas por el cliente previamente.\n",
    "- **previous_bookings_not_canceled**: El número de reservas previas que no fueron canceladas por el cliente.\n",
    "- **reserved_room_type**: El tipo de habitación reservada.\n",
    "- **assigned_room_type**: El tipo de habitación asignada al cliente.\n",
    "- **booking_changes**: El número de cambios realizados en la reserva desde su creación hasta el check-in o cancelación.\n",
    "- **deposit_type**: El tipo de depósito realizado para la reserva.\n",
    "- **agent**: El ID del agente que realizó la reserva.\n",
    "- **company**: El ID de la compañía que realizó la reserva.\n",
    "- **days_in_waiting_list**: El número de días que la reserva estuvo en la lista de espera antes de ser confirmada.\n",
    "- **customer_type**: El tipo de cliente (por ejemplo, contractual, grupo, transitorios, etc.).\n",
    "- **adr**: Tasa diaria promedio, indica el precio medio de una habitación por noche.\n",
    "- **required_car_parking_spaces**: El número de plazas de aparcamiento requeridas por el cliente.\n",
    "- **total_of_special_requests**: El número total de peticiones especiales realizadas por el cliente.\n",
    "- **reservation_status**: El estado de la reserva (por ejemplo, Confirmado, Cancelado, etc.).\n",
    "- **reservation_status_date**: La fecha en que se actualizó el estado de la reserva.\n",
    "- **credit_card?**: Indica si se utilizó una tarjeta de crédito para realizar la reserva."
   ]
  },
  {
   "cell_type": "code",
   "execution_count": 5,
   "id": "393d5f62",
   "metadata": {},
   "outputs": [
    {
     "data": {
      "text/plain": [
       "(119390, 36)"
      ]
     },
     "execution_count": 5,
     "metadata": {},
     "output_type": "execute_result"
    }
   ],
   "source": [
    "hotel_booking.shape"
   ]
  },
  {
   "cell_type": "code",
   "execution_count": 7,
   "id": "794ab0d1",
   "metadata": {},
   "outputs": [
    {
     "name": "stdout",
     "output_type": "stream",
     "text": [
      "['hotel', 'is_canceled', 'lead_time', 'arrival_date_year', 'arrival_date_month', 'arrival_date_week_number', 'arrival_date_day_of_month', 'stays_in_weekend_nights', 'stays_in_week_nights', 'adults', 'children', 'babies', 'meal', 'country', 'market_segment', 'distribution_channel', 'is_repeated_guest', 'previous_cancellations', 'previous_bookings_not_canceled', 'reserved_room_type', 'assigned_room_type', 'booking_changes', 'deposit_type', 'agent', 'company', 'days_in_waiting_list', 'customer_type', 'adr', 'required_car_parking_spaces', 'total_of_special_requests', 'reservation_status', 'reservation_status_date', 'name', 'email', 'phone-number', 'credit_card']\n"
     ]
    }
   ],
   "source": [
    "# variables del dataset\n",
    "lista_variables = hotel_booking.columns.tolist()\n",
    "print(lista_variables)  "
   ]
  },
  {
   "cell_type": "code",
   "execution_count": 8,
   "id": "2b14a0dc",
   "metadata": {},
   "outputs": [
    {
     "data": {
      "text/html": [
       "<div>\n",
       "<style scoped>\n",
       "    .dataframe tbody tr th:only-of-type {\n",
       "        vertical-align: middle;\n",
       "    }\n",
       "\n",
       "    .dataframe tbody tr th {\n",
       "        vertical-align: top;\n",
       "    }\n",
       "\n",
       "    .dataframe thead th {\n",
       "        text-align: right;\n",
       "    }\n",
       "</style>\n",
       "<table border=\"1\" class=\"dataframe\">\n",
       "  <thead>\n",
       "    <tr style=\"text-align: right;\">\n",
       "      <th></th>\n",
       "      <th>hotel</th>\n",
       "      <th>is_canceled</th>\n",
       "      <th>lead_time</th>\n",
       "      <th>arrival_date_year</th>\n",
       "      <th>arrival_date_month</th>\n",
       "      <th>arrival_date_week_number</th>\n",
       "      <th>arrival_date_day_of_month</th>\n",
       "      <th>stays_in_weekend_nights</th>\n",
       "      <th>stays_in_week_nights</th>\n",
       "      <th>adults</th>\n",
       "      <th>children</th>\n",
       "      <th>babies</th>\n",
       "      <th>meal</th>\n",
       "      <th>country</th>\n",
       "      <th>market_segment</th>\n",
       "      <th>distribution_channel</th>\n",
       "      <th>is_repeated_guest</th>\n",
       "      <th>previous_cancellations</th>\n",
       "      <th>previous_bookings_not_canceled</th>\n",
       "      <th>reserved_room_type</th>\n",
       "      <th>assigned_room_type</th>\n",
       "      <th>booking_changes</th>\n",
       "      <th>deposit_type</th>\n",
       "      <th>agent</th>\n",
       "      <th>company</th>\n",
       "      <th>days_in_waiting_list</th>\n",
       "      <th>customer_type</th>\n",
       "      <th>adr</th>\n",
       "      <th>required_car_parking_spaces</th>\n",
       "      <th>total_of_special_requests</th>\n",
       "      <th>reservation_status</th>\n",
       "      <th>reservation_status_date</th>\n",
       "      <th>name</th>\n",
       "      <th>email</th>\n",
       "      <th>phone-number</th>\n",
       "      <th>credit_card</th>\n",
       "    </tr>\n",
       "  </thead>\n",
       "  <tbody>\n",
       "    <tr>\n",
       "      <th>29363</th>\n",
       "      <td>Resort Hotel</td>\n",
       "      <td>0</td>\n",
       "      <td>6</td>\n",
       "      <td>2016</td>\n",
       "      <td>October</td>\n",
       "      <td>44</td>\n",
       "      <td>26</td>\n",
       "      <td>0</td>\n",
       "      <td>1</td>\n",
       "      <td>2</td>\n",
       "      <td>0.0</td>\n",
       "      <td>0</td>\n",
       "      <td>BB</td>\n",
       "      <td>PRT</td>\n",
       "      <td>Offline TA/TO</td>\n",
       "      <td>TA/TO</td>\n",
       "      <td>0</td>\n",
       "      <td>0</td>\n",
       "      <td>0</td>\n",
       "      <td>A</td>\n",
       "      <td>A</td>\n",
       "      <td>0</td>\n",
       "      <td>No Deposit</td>\n",
       "      <td>177.0</td>\n",
       "      <td>NaN</td>\n",
       "      <td>0</td>\n",
       "      <td>Transient</td>\n",
       "      <td>46.0</td>\n",
       "      <td>0</td>\n",
       "      <td>2</td>\n",
       "      <td>Check-Out</td>\n",
       "      <td>2016-10-27</td>\n",
       "      <td>Madeline Ramos</td>\n",
       "      <td>MadelineRamos@verizon.com</td>\n",
       "      <td>733-776-9081</td>\n",
       "      <td>************7082</td>\n",
       "    </tr>\n",
       "    <tr>\n",
       "      <th>115340</th>\n",
       "      <td>City Hotel</td>\n",
       "      <td>0</td>\n",
       "      <td>4</td>\n",
       "      <td>2017</td>\n",
       "      <td>July</td>\n",
       "      <td>27</td>\n",
       "      <td>3</td>\n",
       "      <td>1</td>\n",
       "      <td>1</td>\n",
       "      <td>1</td>\n",
       "      <td>0.0</td>\n",
       "      <td>0</td>\n",
       "      <td>SC</td>\n",
       "      <td>ESP</td>\n",
       "      <td>Online TA</td>\n",
       "      <td>TA/TO</td>\n",
       "      <td>0</td>\n",
       "      <td>0</td>\n",
       "      <td>0</td>\n",
       "      <td>A</td>\n",
       "      <td>A</td>\n",
       "      <td>0</td>\n",
       "      <td>No Deposit</td>\n",
       "      <td>9.0</td>\n",
       "      <td>NaN</td>\n",
       "      <td>0</td>\n",
       "      <td>Transient</td>\n",
       "      <td>129.0</td>\n",
       "      <td>0</td>\n",
       "      <td>1</td>\n",
       "      <td>Check-Out</td>\n",
       "      <td>2017-07-05</td>\n",
       "      <td>Taylor Jones</td>\n",
       "      <td>Taylor.Jones@verizon.com</td>\n",
       "      <td>723-717-8363</td>\n",
       "      <td>************9642</td>\n",
       "    </tr>\n",
       "    <tr>\n",
       "      <th>82305</th>\n",
       "      <td>City Hotel</td>\n",
       "      <td>0</td>\n",
       "      <td>58</td>\n",
       "      <td>2015</td>\n",
       "      <td>December</td>\n",
       "      <td>52</td>\n",
       "      <td>23</td>\n",
       "      <td>0</td>\n",
       "      <td>4</td>\n",
       "      <td>1</td>\n",
       "      <td>0.0</td>\n",
       "      <td>0</td>\n",
       "      <td>HB</td>\n",
       "      <td>DEU</td>\n",
       "      <td>Offline TA/TO</td>\n",
       "      <td>TA/TO</td>\n",
       "      <td>0</td>\n",
       "      <td>0</td>\n",
       "      <td>0</td>\n",
       "      <td>A</td>\n",
       "      <td>A</td>\n",
       "      <td>1</td>\n",
       "      <td>No Deposit</td>\n",
       "      <td>16.0</td>\n",
       "      <td>NaN</td>\n",
       "      <td>0</td>\n",
       "      <td>Transient</td>\n",
       "      <td>56.6</td>\n",
       "      <td>1</td>\n",
       "      <td>0</td>\n",
       "      <td>Check-Out</td>\n",
       "      <td>2015-12-27</td>\n",
       "      <td>Christopher Espinoza</td>\n",
       "      <td>Christopher.Espinoza@comcast.net</td>\n",
       "      <td>137-657-6664</td>\n",
       "      <td>************1926</td>\n",
       "    </tr>\n",
       "  </tbody>\n",
       "</table>\n",
       "</div>"
      ],
      "text/plain": [
       "               hotel  is_canceled  lead_time  arrival_date_year  \\\n",
       "29363   Resort Hotel            0          6               2016   \n",
       "115340    City Hotel            0          4               2017   \n",
       "82305     City Hotel            0         58               2015   \n",
       "\n",
       "       arrival_date_month  arrival_date_week_number  \\\n",
       "29363             October                        44   \n",
       "115340               July                        27   \n",
       "82305            December                        52   \n",
       "\n",
       "        arrival_date_day_of_month  stays_in_weekend_nights  \\\n",
       "29363                          26                        0   \n",
       "115340                          3                        1   \n",
       "82305                          23                        0   \n",
       "\n",
       "        stays_in_week_nights  adults  children  babies meal country  \\\n",
       "29363                      1       2       0.0       0   BB     PRT   \n",
       "115340                     1       1       0.0       0   SC     ESP   \n",
       "82305                      4       1       0.0       0   HB     DEU   \n",
       "\n",
       "       market_segment distribution_channel  is_repeated_guest  \\\n",
       "29363   Offline TA/TO                TA/TO                  0   \n",
       "115340      Online TA                TA/TO                  0   \n",
       "82305   Offline TA/TO                TA/TO                  0   \n",
       "\n",
       "        previous_cancellations  previous_bookings_not_canceled  \\\n",
       "29363                        0                               0   \n",
       "115340                       0                               0   \n",
       "82305                        0                               0   \n",
       "\n",
       "       reserved_room_type assigned_room_type  booking_changes deposit_type  \\\n",
       "29363                   A                  A                0   No Deposit   \n",
       "115340                  A                  A                0   No Deposit   \n",
       "82305                   A                  A                1   No Deposit   \n",
       "\n",
       "        agent  company  days_in_waiting_list customer_type    adr  \\\n",
       "29363   177.0      NaN                     0     Transient   46.0   \n",
       "115340    9.0      NaN                     0     Transient  129.0   \n",
       "82305    16.0      NaN                     0     Transient   56.6   \n",
       "\n",
       "        required_car_parking_spaces  total_of_special_requests  \\\n",
       "29363                             0                          2   \n",
       "115340                            0                          1   \n",
       "82305                             1                          0   \n",
       "\n",
       "       reservation_status reservation_status_date                  name  \\\n",
       "29363           Check-Out              2016-10-27        Madeline Ramos   \n",
       "115340          Check-Out              2017-07-05          Taylor Jones   \n",
       "82305           Check-Out              2015-12-27  Christopher Espinoza   \n",
       "\n",
       "                                   email  phone-number       credit_card  \n",
       "29363          MadelineRamos@verizon.com  733-776-9081  ************7082  \n",
       "115340          Taylor.Jones@verizon.com  723-717-8363  ************9642  \n",
       "82305   Christopher.Espinoza@comcast.net  137-657-6664  ************1926  "
      ]
     },
     "execution_count": 8,
     "metadata": {},
     "output_type": "execute_result"
    }
   ],
   "source": [
    "hotel_booking.sample(3)"
   ]
  },
  {
   "cell_type": "code",
   "execution_count": 9,
   "id": "b45e4bce",
   "metadata": {},
   "outputs": [],
   "source": [
    "# se eliminan las columnas innecesarias para el analisis\n",
    "hotel_booking = hotel_booking.drop(columns=['phone-number','email'])"
   ]
  },
  {
   "cell_type": "code",
   "execution_count": 11,
   "id": "16202350",
   "metadata": {},
   "outputs": [],
   "source": [
    "# se modifican los valores a enteros\n",
    "columas = ['children', 'agent']\n",
    "\n",
    "for column in columas:\n",
    "    hotel_booking[column] = hotel_booking[column].astype(str).str.replace('.0', '', regex=False)"
   ]
  },
  {
   "cell_type": "code",
   "execution_count": 12,
   "id": "8899cb80",
   "metadata": {},
   "outputs": [
    {
     "data": {
      "text/html": [
       "<div>\n",
       "<style scoped>\n",
       "    .dataframe tbody tr th:only-of-type {\n",
       "        vertical-align: middle;\n",
       "    }\n",
       "\n",
       "    .dataframe tbody tr th {\n",
       "        vertical-align: top;\n",
       "    }\n",
       "\n",
       "    .dataframe thead th {\n",
       "        text-align: right;\n",
       "    }\n",
       "</style>\n",
       "<table border=\"1\" class=\"dataframe\">\n",
       "  <thead>\n",
       "    <tr style=\"text-align: right;\">\n",
       "      <th></th>\n",
       "      <th>hotel</th>\n",
       "      <th>is_canceled</th>\n",
       "      <th>lead_time</th>\n",
       "      <th>arrival_date_year</th>\n",
       "      <th>arrival_date_month</th>\n",
       "      <th>arrival_date_week_number</th>\n",
       "      <th>arrival_date_day_of_month</th>\n",
       "      <th>stays_in_weekend_nights</th>\n",
       "      <th>stays_in_week_nights</th>\n",
       "      <th>adults</th>\n",
       "      <th>children</th>\n",
       "      <th>babies</th>\n",
       "      <th>meal</th>\n",
       "      <th>country</th>\n",
       "      <th>market_segment</th>\n",
       "      <th>distribution_channel</th>\n",
       "      <th>is_repeated_guest</th>\n",
       "      <th>previous_cancellations</th>\n",
       "      <th>previous_bookings_not_canceled</th>\n",
       "      <th>reserved_room_type</th>\n",
       "      <th>assigned_room_type</th>\n",
       "      <th>booking_changes</th>\n",
       "      <th>deposit_type</th>\n",
       "      <th>agent</th>\n",
       "      <th>company</th>\n",
       "      <th>days_in_waiting_list</th>\n",
       "      <th>customer_type</th>\n",
       "      <th>adr</th>\n",
       "      <th>required_car_parking_spaces</th>\n",
       "      <th>total_of_special_requests</th>\n",
       "      <th>reservation_status</th>\n",
       "      <th>reservation_status_date</th>\n",
       "      <th>name</th>\n",
       "      <th>credit_card</th>\n",
       "    </tr>\n",
       "  </thead>\n",
       "  <tbody>\n",
       "    <tr>\n",
       "      <th>94758</th>\n",
       "      <td>City Hotel</td>\n",
       "      <td>0</td>\n",
       "      <td>52</td>\n",
       "      <td>2016</td>\n",
       "      <td>August</td>\n",
       "      <td>32</td>\n",
       "      <td>2</td>\n",
       "      <td>2</td>\n",
       "      <td>5</td>\n",
       "      <td>2</td>\n",
       "      <td>0</td>\n",
       "      <td>0</td>\n",
       "      <td>BB</td>\n",
       "      <td>HRV</td>\n",
       "      <td>Online TA</td>\n",
       "      <td>TA/TO</td>\n",
       "      <td>0</td>\n",
       "      <td>0</td>\n",
       "      <td>0</td>\n",
       "      <td>A</td>\n",
       "      <td>A</td>\n",
       "      <td>0</td>\n",
       "      <td>No Deposit</td>\n",
       "      <td>9</td>\n",
       "      <td>NaN</td>\n",
       "      <td>0</td>\n",
       "      <td>Transient</td>\n",
       "      <td>135.90</td>\n",
       "      <td>0</td>\n",
       "      <td>1</td>\n",
       "      <td>Check-Out</td>\n",
       "      <td>2016-08-09</td>\n",
       "      <td>Anthony Townsend</td>\n",
       "      <td>************6510</td>\n",
       "    </tr>\n",
       "    <tr>\n",
       "      <th>72311</th>\n",
       "      <td>City Hotel</td>\n",
       "      <td>1</td>\n",
       "      <td>465</td>\n",
       "      <td>2017</td>\n",
       "      <td>July</td>\n",
       "      <td>30</td>\n",
       "      <td>26</td>\n",
       "      <td>0</td>\n",
       "      <td>3</td>\n",
       "      <td>1</td>\n",
       "      <td>0</td>\n",
       "      <td>0</td>\n",
       "      <td>BB</td>\n",
       "      <td>PRT</td>\n",
       "      <td>Offline TA/TO</td>\n",
       "      <td>TA/TO</td>\n",
       "      <td>0</td>\n",
       "      <td>0</td>\n",
       "      <td>0</td>\n",
       "      <td>A</td>\n",
       "      <td>A</td>\n",
       "      <td>1</td>\n",
       "      <td>No Deposit</td>\n",
       "      <td>229</td>\n",
       "      <td>NaN</td>\n",
       "      <td>0</td>\n",
       "      <td>Transient-Party</td>\n",
       "      <td>91.33</td>\n",
       "      <td>0</td>\n",
       "      <td>0</td>\n",
       "      <td>Canceled</td>\n",
       "      <td>2017-07-19</td>\n",
       "      <td>Ashley Johnson</td>\n",
       "      <td>************6480</td>\n",
       "    </tr>\n",
       "    <tr>\n",
       "      <th>114151</th>\n",
       "      <td>City Hotel</td>\n",
       "      <td>0</td>\n",
       "      <td>218</td>\n",
       "      <td>2017</td>\n",
       "      <td>June</td>\n",
       "      <td>24</td>\n",
       "      <td>15</td>\n",
       "      <td>0</td>\n",
       "      <td>3</td>\n",
       "      <td>3</td>\n",
       "      <td>0</td>\n",
       "      <td>0</td>\n",
       "      <td>BB</td>\n",
       "      <td>GBR</td>\n",
       "      <td>Online TA</td>\n",
       "      <td>TA/TO</td>\n",
       "      <td>0</td>\n",
       "      <td>0</td>\n",
       "      <td>0</td>\n",
       "      <td>D</td>\n",
       "      <td>D</td>\n",
       "      <td>1</td>\n",
       "      <td>No Deposit</td>\n",
       "      <td>9</td>\n",
       "      <td>NaN</td>\n",
       "      <td>0</td>\n",
       "      <td>Transient</td>\n",
       "      <td>180.50</td>\n",
       "      <td>0</td>\n",
       "      <td>2</td>\n",
       "      <td>Check-Out</td>\n",
       "      <td>2017-06-18</td>\n",
       "      <td>Jeffrey Stewart</td>\n",
       "      <td>************3729</td>\n",
       "    </tr>\n",
       "  </tbody>\n",
       "</table>\n",
       "</div>"
      ],
      "text/plain": [
       "             hotel  is_canceled  lead_time  arrival_date_year  \\\n",
       "94758   City Hotel            0         52               2016   \n",
       "72311   City Hotel            1        465               2017   \n",
       "114151  City Hotel            0        218               2017   \n",
       "\n",
       "       arrival_date_month  arrival_date_week_number  \\\n",
       "94758              August                        32   \n",
       "72311                July                        30   \n",
       "114151               June                        24   \n",
       "\n",
       "        arrival_date_day_of_month  stays_in_weekend_nights  \\\n",
       "94758                           2                        2   \n",
       "72311                          26                        0   \n",
       "114151                         15                        0   \n",
       "\n",
       "        stays_in_week_nights  adults children  babies meal country  \\\n",
       "94758                      5       2        0       0   BB     HRV   \n",
       "72311                      3       1        0       0   BB     PRT   \n",
       "114151                     3       3        0       0   BB     GBR   \n",
       "\n",
       "       market_segment distribution_channel  is_repeated_guest  \\\n",
       "94758       Online TA                TA/TO                  0   \n",
       "72311   Offline TA/TO                TA/TO                  0   \n",
       "114151      Online TA                TA/TO                  0   \n",
       "\n",
       "        previous_cancellations  previous_bookings_not_canceled  \\\n",
       "94758                        0                               0   \n",
       "72311                        0                               0   \n",
       "114151                       0                               0   \n",
       "\n",
       "       reserved_room_type assigned_room_type  booking_changes deposit_type  \\\n",
       "94758                   A                  A                0   No Deposit   \n",
       "72311                   A                  A                1   No Deposit   \n",
       "114151                  D                  D                1   No Deposit   \n",
       "\n",
       "       agent  company  days_in_waiting_list    customer_type     adr  \\\n",
       "94758      9      NaN                     0        Transient  135.90   \n",
       "72311    229      NaN                     0  Transient-Party   91.33   \n",
       "114151     9      NaN                     0        Transient  180.50   \n",
       "\n",
       "        required_car_parking_spaces  total_of_special_requests  \\\n",
       "94758                             0                          1   \n",
       "72311                             0                          0   \n",
       "114151                            0                          2   \n",
       "\n",
       "       reservation_status reservation_status_date              name  \\\n",
       "94758           Check-Out              2016-08-09  Anthony Townsend   \n",
       "72311            Canceled              2017-07-19    Ashley Johnson   \n",
       "114151          Check-Out              2017-06-18   Jeffrey Stewart   \n",
       "\n",
       "             credit_card  \n",
       "94758   ************6510  \n",
       "72311   ************6480  \n",
       "114151  ************3729  "
      ]
     },
     "execution_count": 12,
     "metadata": {},
     "output_type": "execute_result"
    }
   ],
   "source": [
    "hotel_booking.sample(3)"
   ]
  },
  {
   "cell_type": "markdown",
   "id": "4967c759",
   "metadata": {},
   "source": [
    "#### Exploracion de variables\n"
   ]
  },
  {
   "cell_type": "code",
   "execution_count": 34,
   "id": "87882a82",
   "metadata": {},
   "outputs": [
    {
     "name": "stdout",
     "output_type": "stream",
     "text": [
      "['Resort Hotel' 'City Hotel']\n"
     ]
    }
   ],
   "source": [
    "# Se visualiza la variable hotel\n",
    "hotel = hotel_booking['hotel'].unique()\n",
    "print(hotel)"
   ]
  },
  {
   "cell_type": "code",
   "execution_count": 35,
   "id": "98183f50",
   "metadata": {},
   "outputs": [
    {
     "name": "stdout",
     "output_type": "stream",
     "text": [
      "[0 1]\n"
     ]
    }
   ],
   "source": [
    "# Se visualiza la variable is_canceled\n",
    "cancelado = hotel_booking['is_canceled'].unique()\n",
    "print(cancelado)"
   ]
  },
  {
   "cell_type": "code",
   "execution_count": 36,
   "id": "88875b4e",
   "metadata": {},
   "outputs": [
    {
     "name": "stdout",
     "output_type": "stream",
     "text": [
      "[2015 2016 2017]\n"
     ]
    }
   ],
   "source": [
    "# Se visualiza la variable arrival_date_year\n",
    "year = hotel_booking['arrival_date_year'].unique()\n",
    "print(year)"
   ]
  },
  {
   "cell_type": "code",
   "execution_count": 37,
   "id": "3bf2074d",
   "metadata": {},
   "outputs": [
    {
     "name": "stdout",
     "output_type": "stream",
     "text": [
      "[ 2  1  3  4 40 26 50 27 55  0 20  6  5 10]\n"
     ]
    }
   ],
   "source": [
    "# Se visualiza la variable\n",
    "adults = hotel_booking['adults'].unique()\n",
    "print(adults)"
   ]
  },
  {
   "cell_type": "code",
   "execution_count": 38,
   "id": "ee506129",
   "metadata": {},
   "outputs": [
    {
     "name": "stdout",
     "output_type": "stream",
     "text": [
      "['0' '1' '2' '10' '3' 'nan']\n"
     ]
    }
   ],
   "source": [
    "# Se visualiza la variable children\n",
    "children = hotel_booking['children'].unique()\n",
    "print(children)"
   ]
  },
  {
   "cell_type": "code",
   "execution_count": 39,
   "id": "fd2df4d1",
   "metadata": {},
   "outputs": [
    {
     "name": "stdout",
     "output_type": "stream",
     "text": [
      "[ 0  1  2 10  9]\n"
     ]
    }
   ],
   "source": [
    "# Se visualiza la variable babies\n",
    "babies = hotel_booking['babies'].unique()\n",
    "print(babies)"
   ]
  },
  {
   "cell_type": "code",
   "execution_count": 30,
   "id": "afe480e7",
   "metadata": {},
   "outputs": [
    {
     "name": "stdout",
     "output_type": "stream",
     "text": [
      "['PRT' 'GBR' 'USA' 'ESP' 'IRL' 'FRA' nan 'ROU' 'NOR' 'OMN' 'ARG' 'POL'\n",
      " 'DEU' 'BEL' 'CHE' 'CN' 'GRC' 'ITA' 'NLD' 'DNK' 'RUS' 'SWE' 'AUS' 'EST'\n",
      " 'CZE' 'BRA' 'FIN' 'MOZ' 'BWA' 'LUX' 'SVN' 'ALB' 'IND' 'CHN' 'MEX' 'MAR'\n",
      " 'UKR' 'SMR' 'LVA' 'PRI' 'SRB' 'CHL' 'AUT' 'BLR' 'LTU' 'TUR' 'ZAF' 'AGO'\n",
      " 'ISR' 'CYM' 'ZMB' 'CPV' 'ZWE' 'DZA' 'KOR' 'CRI' 'HUN' 'ARE' 'TUN' 'JAM'\n",
      " 'HRV' 'HKG' 'IRN' 'GEO' 'AND' 'GIB' 'URY' 'JEY' 'CAF' 'CYP' 'COL' 'GGY'\n",
      " 'KWT' 'NGA' 'MDV' 'VEN' 'SVK' 'FJI' 'KAZ' 'PAK' 'IDN' 'LBN' 'PHL' 'SEN'\n",
      " 'SYC' 'AZE' 'BHR' 'NZL' 'THA' 'DOM' 'MKD' 'MYS' 'ARM' 'JPN' 'LKA' 'CUB'\n",
      " 'CMR' 'BIH' 'MUS' 'COM' 'SUR' 'UGA' 'BGR' 'CIV' 'JOR' 'SYR' 'SGP' 'BDI'\n",
      " 'SAU' 'VNM' 'PLW' 'QAT' 'EGY' 'PER' 'MLT' 'MWI' 'ECU' 'MDG' 'ISL' 'UZB'\n",
      " 'NPL' 'BHS' 'MAC' 'TGO' 'TWN' 'DJI' 'STP' 'KNA' 'ETH' 'IRQ' 'HND' 'RWA'\n",
      " 'KHM' 'MCO' 'BGD' 'IMN' 'TJK' 'NIC' 'BEN' 'VGB' 'TZA' 'GAB' 'GHA' 'TMP'\n",
      " 'GLP' 'KEN' 'LIE' 'GNB' 'MNE' 'UMI' 'MYT' 'FRO' 'MMR' 'PAN' 'BFA' 'LBY'\n",
      " 'MLI' 'NAM' 'BOL' 'PRY' 'BRB' 'ABW' 'AIA' 'SLV' 'DMA' 'PYF' 'GUY' 'LCA'\n",
      " 'ATA' 'GTM' 'ASM' 'MRT' 'NCL' 'KIR' 'SDN' 'ATF' 'SLE' 'LAO']\n"
     ]
    }
   ],
   "source": [
    "# Se visualiza la variable country\n",
    "country = hotel_booking['country'].unique()\n",
    "print(country)"
   ]
  },
  {
   "cell_type": "code",
   "execution_count": 29,
   "id": "f2ea95cd",
   "metadata": {},
   "outputs": [
    {
     "name": "stdout",
     "output_type": "stream",
     "text": [
      "['Direct' 'Corporate' 'Online TA' 'Offline TA/TO' 'Complementary' 'Groups'\n",
      " 'Undefined' 'Aviation']\n"
     ]
    }
   ],
   "source": [
    "# Se visualiza la variable market_segment\n",
    "market_segment = hotel_booking['market_segment'].unique()\n",
    "print(market_segment)"
   ]
  },
  {
   "cell_type": "code",
   "execution_count": 28,
   "id": "8af3cd59",
   "metadata": {},
   "outputs": [
    {
     "name": "stdout",
     "output_type": "stream",
     "text": [
      "['Direct' 'Corporate' 'TA/TO' 'Undefined' 'GDS']\n"
     ]
    }
   ],
   "source": [
    "# Se visualiza la variable distribution_channel\n",
    "distribution_channel = hotel_booking['distribution_channel'].unique()\n",
    "print(distribution_channel)"
   ]
  },
  {
   "cell_type": "code",
   "execution_count": 27,
   "id": "02c01cee",
   "metadata": {},
   "outputs": [
    {
     "name": "stdout",
     "output_type": "stream",
     "text": [
      "['nan' '304' '240' '303' '15' '241' '8' '250' '115' '5' '175' '134' '156'\n",
      " '243' '242' '3' '105' '40' '147' '306' '184' '96' '2' '127' '95' '146'\n",
      " '9' '177' '6' '143' '244' '149' '167' '300' '171' '305' '67' '196' '152'\n",
      " '142' '261' '104' '36' '26' '29' '258' '110' '71' '181' '88' '251' '275'\n",
      " '69' '248' '208' '256' '314' '126' '281' '273' '253' '185' '330' '334'\n",
      " '328' '326' '321' '324' '313' '38' '155' '68' '335' '308' '332' '94'\n",
      " '348' '310' '339' '375' '66' '327' '387' '298' '91' '245' '385' '257'\n",
      " '393' '168' '405' '249' '315' '75' '128' '307' '11' '436' '1' '201' '183'\n",
      " '223' '368' '336' '291' '464' '411' '481' '10' '154' '468' '410' '390'\n",
      " '440' '495' '492' '493' '434' '57' '531' '420' '483' '526' '472' '429'\n",
      " '16' '446' '34' '78' '139' '252' '270' '47' '114' '301' '193' '182' '135'\n",
      " '350' '195' '352' '355' '159' '363' '384' '360' '331' '367' '64' '406'\n",
      " '163' '414' '333' '427' '431' '430' '426' '438' '433' '418' '441' '282'\n",
      " '432' '72' '450' '180' '454' '455' '59' '451' '254' '358' '469' '165'\n",
      " '467' '510' '337' '476' '502' '527' '479' '508' '535' '302' '497' '187'\n",
      " '13' '7' '27' '14' '22' '17' '28' '42' '20' '19' '45' '37' '61' '39' '21'\n",
      " '24' '41' '50' '30' '54' '52' '12' '44' '31' '83' '32' '63' '60' '55'\n",
      " '56' '89' '87' '118' '86' '85' '210' '214' '129' '179' '138' '174' '170'\n",
      " '153' '93' '151' '119' '35' '173' '58' '53' '133' '79' '235' '192' '191'\n",
      " '236' '162' '215' '157' '287' '132' '234' '98' '77' '103' '107' '262'\n",
      " '220' '121' '205' '378' '23' '296' '290' '229' '33' '286' '276' '425'\n",
      " '484' '323' '403' '219' '394' '509' '111' '423' '4' '70' '82' '81' '74'\n",
      " '92' '99' '90' '112' '117' '106' '148' '158' '144' '211' '213' '216'\n",
      " '232' '150' '267' '227' '247' '278' '280' '285' '289' '269' '295' '265'\n",
      " '288' '122' '294' '325' '341' '344' '346' '359' '283' '364' '370' '371'\n",
      " '25' '141' '391' '397' '416' '404' '299' '197' '73' '354' '444' '408'\n",
      " '461' '388' '453' '459' '474' '475' '480' '449']\n"
     ]
    }
   ],
   "source": [
    "# Se visualiza la variable agent\n",
    "agent = hotel_booking['agent'].unique()\n",
    "print(agent)"
   ]
  },
  {
   "cell_type": "code",
   "execution_count": 26,
   "id": "57865b67",
   "metadata": {},
   "outputs": [
    {
     "name": "stdout",
     "output_type": "stream",
     "text": [
      "['Transient' 'Contract' 'Transient-Party' 'Group']\n"
     ]
    }
   ],
   "source": [
    "# Se visualiza la variable customer_type\n",
    "customer_type = hotel_booking['customer_type'].unique()\n",
    "print(customer_type)"
   ]
  },
  {
   "cell_type": "code",
   "execution_count": 25,
   "id": "638a6f48",
   "metadata": {},
   "outputs": [
    {
     "name": "stdout",
     "output_type": "stream",
     "text": [
      "['Check-Out' 'Canceled' 'No-Show']\n"
     ]
    }
   ],
   "source": [
    "# Se visualiza la variable reservation_status\n",
    "reservation_status = hotel_booking['reservation_status'].unique()\n",
    "print(reservation_status)"
   ]
  },
  {
   "cell_type": "code",
   "execution_count": null,
   "id": "09603fbd",
   "metadata": {},
   "outputs": [],
   "source": []
  },
  {
   "cell_type": "code",
   "execution_count": null,
   "id": "c7e402d9",
   "metadata": {},
   "outputs": [],
   "source": []
  }
 ],
 "metadata": {
  "kernelspec": {
   "display_name": "Python 3 (ipykernel)",
   "language": "python",
   "name": "python3"
  },
  "language_info": {
   "codemirror_mode": {
    "name": "ipython",
    "version": 3
   },
   "file_extension": ".py",
   "mimetype": "text/x-python",
   "name": "python",
   "nbconvert_exporter": "python",
   "pygments_lexer": "ipython3",
   "version": "3.10.9"
  }
 },
 "nbformat": 4,
 "nbformat_minor": 5
}

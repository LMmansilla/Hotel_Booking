{
 "cells": [
  {
   "cell_type": "markdown",
   "id": "72c86cbd",
   "metadata": {},
   "source": [
    "### Preyecto Hotel Booking - Análisis y Predicción\n",
    "\n",
    "#### Introducción:\n",
    "\n",
    "El sector hotelero es uno de los pilares fundamentales de la industria turística. Con el crecimiento constante de la industria, la gestión eficiente de los hoteles se vuelve cada vez más crucial. En este contexto, el análisis de datos se ha convertido en una herramienta invaluable para comprender mejor las tendencias, los patrones y los factores que afectan el desempeño y la operación de los hoteles. En este estudio, se analizará el conjunto de datos de reservas de hotel para extraer información significativa que pueda ayudar a mejorar la gestión y la toma de decisiones en el sector.\n",
    "\n",
    "#### Objetivo:\n",
    "\n",
    "El objetivo principal de este estudio es analizar el conjunto de datos de reservas de hotel y extraer información relevante que pueda proporcionar insights valiosos para la industria hotelera. Se buscará comprender los factores que influyen en las cancelaciones de reservas, así como identificar patrones de comportamiento de los huéspedes y tendencias en las preferencias de reserva. Además, se pretende desarrollar modelos predictivos que puedan predecir las cancelaciones de reservas con precisión, lo que permitirá a los hoteles anticiparse a posibles problemas y optimizar su capacidad de gestión.\n",
    "\n",
    "#### Aspectos a estudiar:\n",
    "\n",
    "- La cantidad de días de anticipación con la que se realiza una reserva influirá significativamente en la probabilidad de cancelación de la reserva.\n",
    "- El tipo de deposito requerido afectará la propensión a cancelar una reserva, siendo las reservas sin depósito más propensas a cancelarse.\n",
    "- El tipo de cliente puede tener una relación con la frecuencia de cancelaciones, siendo los clientes corporativos menos propensos a cancelar que los clientes transientes.\n",
    "- La disponibilidad de estacionamiento puede influir en la decisión de cancelar una reserva, especialmente para huéspedes que viajan en automóvil.\n",
    "- El número total de solicitudes especiales puede estar correlacionado con la satisfacción del cliente y, por lo tanto, con la probabilidad de cancelación de la reserva.\n",
    "\n",
    "Fuente: https://www.kaggle.com/datasets/mojtaba142/hotel-booking"
   ]
  },
  {
   "cell_type": "markdown",
   "id": "71ac8312",
   "metadata": {},
   "source": [
    "#### Nombre y definición de variables\n",
    "\n",
    "- **hotel**: El nombre del hotel.\n",
    "- **is_canceled**: Indica si la reserva fue cancelada (1) o no (0).\n",
    "- **lead_time**: El número de días que pasaron desde la fecha de reserva hasta la fecha de llegada.\n",
    "- **arrival_date_year**: El año de llegada.\n",
    "- **arrival_date_month**: El mes de llegada.\n",
    "- **arrival_date_week_number**: El número de semana del año en que llegaron los huéspedes.\n",
    "- **arrival_date_day_of_month**: El día del mes de llegada.\n",
    "- **stays_in_weekend_nights**: El número de noches que el cliente se quedó durante los fines de semana.\n",
    "- **stays_in_week_nights**: El número de noches que el cliente se quedó durante la semana.\n",
    "- **adults**: El número de adultos en la reserva.\n",
    "- **children**: El número de niños en la reserva.\n",
    "- **babies**: El número de bebés en la reserva.\n",
    "- **meal**: El tipo de comida reservada.\n",
    "- **country**: El país de origen del cliente.\n",
    "- **market_segment**: El segmento de mercado al que pertenece la reserva.\n",
    "- **distribution_channel**: El canal de distribución utilizado para realizar la reserva.\n",
    "- **is_repeated_guest**: Indica si el cliente es un huésped repetido (1) o no (0).\n",
    "- **previous_cancellations**: El número de reservas canceladas por el cliente previamente.\n",
    "- **previous_bookings_not_canceled**: El número de reservas previas que no fueron canceladas por el cliente.\n",
    "- **reserved_room_type**: El tipo de habitación reservada.\n",
    "- **assigned_room_type**: El tipo de habitación asignada al cliente.\n",
    "- **booking_changes**: El número de cambios realizados en la reserva desde su creación hasta el check-in o cancelación.\n",
    "- **deposit_type**: El tipo de depósito realizado para la reserva.\n",
    "- **agent**: El ID del agente que realizó la reserva.\n",
    "- **company**: El ID de la compañía que realizó la reserva.\n",
    "- **days_in_waiting_list**: El número de días que la reserva estuvo en la lista de espera antes de ser confirmada.\n",
    "- **customer_type**: El tipo de cliente (por ejemplo, contractual, grupo, transitorios, etc.).\n",
    "- **adr**: Tasa diaria promedio, indica el precio medio de una habitación por noche.\n",
    "- **required_car_parking_spaces**: El número de plazas de aparcamiento requeridas por el cliente.\n",
    "- **total_of_special_requests**: El número total de peticiones especiales realizadas por el cliente.\n",
    "- **reservation_status**: El estado de la reserva (por ejemplo, Confirmado, Cancelado, etc.).\n",
    "- **reservation_status_date**: La fecha en que se actualizó el estado de la reserva.\n",
    "- **credit_card?**: Indica si se utilizó una tarjeta de crédito para realizar la reserva."
   ]
  },
  {
   "cell_type": "code",
   "execution_count": 1,
   "id": "b0a15379",
   "metadata": {},
   "outputs": [],
   "source": [
    "import pandas as pd\n",
    "import matplotlib.pyplot as plt"
   ]
  },
  {
   "cell_type": "code",
   "execution_count": 2,
   "id": "c3bc67d3",
   "metadata": {},
   "outputs": [],
   "source": [
    "# Configuraraciones\n",
    "pd.set_option('display.max_columns', None)"
   ]
  },
  {
   "cell_type": "code",
   "execution_count": 3,
   "id": "09a4e0f1",
   "metadata": {},
   "outputs": [],
   "source": [
    "# Se carga el Dataset\n",
    "data_hotel_booking = pd.read_csv('../data/hotel_booking.csv')"
   ]
  },
  {
   "cell_type": "code",
   "execution_count": 4,
   "id": "646452c2",
   "metadata": {},
   "outputs": [],
   "source": [
    "hotel_booking = data_hotel_booking"
   ]
  },
  {
   "cell_type": "code",
   "execution_count": 5,
   "id": "393d5f62",
   "metadata": {},
   "outputs": [
    {
     "data": {
      "text/plain": [
       "(119390, 36)"
      ]
     },
     "execution_count": 5,
     "metadata": {},
     "output_type": "execute_result"
    }
   ],
   "source": [
    "hotel_booking.shape"
   ]
  },
  {
   "cell_type": "code",
   "execution_count": 6,
   "id": "6c79a45f",
   "metadata": {},
   "outputs": [
    {
     "name": "stdout",
     "output_type": "stream",
     "text": [
      "['hotel', 'is_canceled', 'lead_time', 'arrival_date_year', 'arrival_date_month', 'arrival_date_week_number', 'arrival_date_day_of_month', 'stays_in_weekend_nights', 'stays_in_week_nights', 'adults', 'children', 'babies', 'meal', 'country', 'market_segment', 'distribution_channel', 'is_repeated_guest', 'previous_cancellations', 'previous_bookings_not_canceled', 'reserved_room_type', 'assigned_room_type', 'booking_changes', 'deposit_type', 'agent', 'company', 'days_in_waiting_list', 'customer_type', 'adr', 'required_car_parking_spaces', 'total_of_special_requests', 'reservation_status', 'reservation_status_date', 'name', 'email', 'phone-number', 'credit_card']\n"
     ]
    }
   ],
   "source": [
    "# variables del dataset\n",
    "lista_variables = hotel_booking.columns.tolist()\n",
    "print(lista_variables)  "
   ]
  },
  {
   "cell_type": "code",
   "execution_count": 7,
   "id": "2b14a0dc",
   "metadata": {},
   "outputs": [
    {
     "data": {
      "text/html": [
       "<div>\n",
       "<style scoped>\n",
       "    .dataframe tbody tr th:only-of-type {\n",
       "        vertical-align: middle;\n",
       "    }\n",
       "\n",
       "    .dataframe tbody tr th {\n",
       "        vertical-align: top;\n",
       "    }\n",
       "\n",
       "    .dataframe thead th {\n",
       "        text-align: right;\n",
       "    }\n",
       "</style>\n",
       "<table border=\"1\" class=\"dataframe\">\n",
       "  <thead>\n",
       "    <tr style=\"text-align: right;\">\n",
       "      <th></th>\n",
       "      <th>hotel</th>\n",
       "      <th>is_canceled</th>\n",
       "      <th>lead_time</th>\n",
       "      <th>arrival_date_year</th>\n",
       "      <th>arrival_date_month</th>\n",
       "      <th>arrival_date_week_number</th>\n",
       "      <th>arrival_date_day_of_month</th>\n",
       "      <th>stays_in_weekend_nights</th>\n",
       "      <th>stays_in_week_nights</th>\n",
       "      <th>adults</th>\n",
       "      <th>children</th>\n",
       "      <th>babies</th>\n",
       "      <th>meal</th>\n",
       "      <th>country</th>\n",
       "      <th>market_segment</th>\n",
       "      <th>distribution_channel</th>\n",
       "      <th>is_repeated_guest</th>\n",
       "      <th>previous_cancellations</th>\n",
       "      <th>previous_bookings_not_canceled</th>\n",
       "      <th>reserved_room_type</th>\n",
       "      <th>assigned_room_type</th>\n",
       "      <th>booking_changes</th>\n",
       "      <th>deposit_type</th>\n",
       "      <th>agent</th>\n",
       "      <th>company</th>\n",
       "      <th>days_in_waiting_list</th>\n",
       "      <th>customer_type</th>\n",
       "      <th>adr</th>\n",
       "      <th>required_car_parking_spaces</th>\n",
       "      <th>total_of_special_requests</th>\n",
       "      <th>reservation_status</th>\n",
       "      <th>reservation_status_date</th>\n",
       "      <th>name</th>\n",
       "      <th>email</th>\n",
       "      <th>phone-number</th>\n",
       "      <th>credit_card</th>\n",
       "    </tr>\n",
       "  </thead>\n",
       "  <tbody>\n",
       "    <tr>\n",
       "      <th>52997</th>\n",
       "      <td>City Hotel</td>\n",
       "      <td>1</td>\n",
       "      <td>188</td>\n",
       "      <td>2016</td>\n",
       "      <td>June</td>\n",
       "      <td>25</td>\n",
       "      <td>15</td>\n",
       "      <td>0</td>\n",
       "      <td>2</td>\n",
       "      <td>1</td>\n",
       "      <td>0.0</td>\n",
       "      <td>0</td>\n",
       "      <td>BB</td>\n",
       "      <td>PRT</td>\n",
       "      <td>Offline TA/TO</td>\n",
       "      <td>TA/TO</td>\n",
       "      <td>0</td>\n",
       "      <td>0</td>\n",
       "      <td>0</td>\n",
       "      <td>A</td>\n",
       "      <td>A</td>\n",
       "      <td>0</td>\n",
       "      <td>Non Refund</td>\n",
       "      <td>119.0</td>\n",
       "      <td>NaN</td>\n",
       "      <td>39</td>\n",
       "      <td>Transient</td>\n",
       "      <td>130.0</td>\n",
       "      <td>0</td>\n",
       "      <td>0</td>\n",
       "      <td>Canceled</td>\n",
       "      <td>2016-01-18</td>\n",
       "      <td>Tanya Shaw</td>\n",
       "      <td>Shaw_Tanya77@att.com</td>\n",
       "      <td>719-682-1423</td>\n",
       "      <td>************7788</td>\n",
       "    </tr>\n",
       "    <tr>\n",
       "      <th>53178</th>\n",
       "      <td>City Hotel</td>\n",
       "      <td>1</td>\n",
       "      <td>113</td>\n",
       "      <td>2016</td>\n",
       "      <td>June</td>\n",
       "      <td>25</td>\n",
       "      <td>17</td>\n",
       "      <td>0</td>\n",
       "      <td>2</td>\n",
       "      <td>2</td>\n",
       "      <td>0.0</td>\n",
       "      <td>0</td>\n",
       "      <td>BB</td>\n",
       "      <td>GBR</td>\n",
       "      <td>Online TA</td>\n",
       "      <td>TA/TO</td>\n",
       "      <td>0</td>\n",
       "      <td>0</td>\n",
       "      <td>0</td>\n",
       "      <td>A</td>\n",
       "      <td>A</td>\n",
       "      <td>0</td>\n",
       "      <td>No Deposit</td>\n",
       "      <td>9.0</td>\n",
       "      <td>NaN</td>\n",
       "      <td>0</td>\n",
       "      <td>Transient</td>\n",
       "      <td>126.9</td>\n",
       "      <td>0</td>\n",
       "      <td>0</td>\n",
       "      <td>Canceled</td>\n",
       "      <td>2016-02-25</td>\n",
       "      <td>Garrett Stanley</td>\n",
       "      <td>Garrett.Stanley87@protonmail.com</td>\n",
       "      <td>801-454-9551</td>\n",
       "      <td>************1419</td>\n",
       "    </tr>\n",
       "    <tr>\n",
       "      <th>87795</th>\n",
       "      <td>City Hotel</td>\n",
       "      <td>0</td>\n",
       "      <td>44</td>\n",
       "      <td>2016</td>\n",
       "      <td>April</td>\n",
       "      <td>17</td>\n",
       "      <td>23</td>\n",
       "      <td>2</td>\n",
       "      <td>1</td>\n",
       "      <td>2</td>\n",
       "      <td>0.0</td>\n",
       "      <td>0</td>\n",
       "      <td>BB</td>\n",
       "      <td>FRA</td>\n",
       "      <td>Offline TA/TO</td>\n",
       "      <td>TA/TO</td>\n",
       "      <td>0</td>\n",
       "      <td>0</td>\n",
       "      <td>0</td>\n",
       "      <td>A</td>\n",
       "      <td>A</td>\n",
       "      <td>0</td>\n",
       "      <td>No Deposit</td>\n",
       "      <td>24.0</td>\n",
       "      <td>NaN</td>\n",
       "      <td>0</td>\n",
       "      <td>Transient-Party</td>\n",
       "      <td>95.0</td>\n",
       "      <td>0</td>\n",
       "      <td>1</td>\n",
       "      <td>Check-Out</td>\n",
       "      <td>2016-04-26</td>\n",
       "      <td>Travis Moore</td>\n",
       "      <td>Moore_Travis@zoho.com</td>\n",
       "      <td>257-761-0425</td>\n",
       "      <td>************3928</td>\n",
       "    </tr>\n",
       "  </tbody>\n",
       "</table>\n",
       "</div>"
      ],
      "text/plain": [
       "            hotel  is_canceled  lead_time  arrival_date_year  \\\n",
       "52997  City Hotel            1        188               2016   \n",
       "53178  City Hotel            1        113               2016   \n",
       "87795  City Hotel            0         44               2016   \n",
       "\n",
       "      arrival_date_month  arrival_date_week_number  arrival_date_day_of_month  \\\n",
       "52997               June                        25                         15   \n",
       "53178               June                        25                         17   \n",
       "87795              April                        17                         23   \n",
       "\n",
       "       stays_in_weekend_nights  stays_in_week_nights  adults  children  \\\n",
       "52997                        0                     2       1       0.0   \n",
       "53178                        0                     2       2       0.0   \n",
       "87795                        2                     1       2       0.0   \n",
       "\n",
       "       babies meal country market_segment distribution_channel  \\\n",
       "52997       0   BB     PRT  Offline TA/TO                TA/TO   \n",
       "53178       0   BB     GBR      Online TA                TA/TO   \n",
       "87795       0   BB     FRA  Offline TA/TO                TA/TO   \n",
       "\n",
       "       is_repeated_guest  previous_cancellations  \\\n",
       "52997                  0                       0   \n",
       "53178                  0                       0   \n",
       "87795                  0                       0   \n",
       "\n",
       "       previous_bookings_not_canceled reserved_room_type assigned_room_type  \\\n",
       "52997                               0                  A                  A   \n",
       "53178                               0                  A                  A   \n",
       "87795                               0                  A                  A   \n",
       "\n",
       "       booking_changes deposit_type  agent  company  days_in_waiting_list  \\\n",
       "52997                0   Non Refund  119.0      NaN                    39   \n",
       "53178                0   No Deposit    9.0      NaN                     0   \n",
       "87795                0   No Deposit   24.0      NaN                     0   \n",
       "\n",
       "         customer_type    adr  required_car_parking_spaces  \\\n",
       "52997        Transient  130.0                            0   \n",
       "53178        Transient  126.9                            0   \n",
       "87795  Transient-Party   95.0                            0   \n",
       "\n",
       "       total_of_special_requests reservation_status reservation_status_date  \\\n",
       "52997                          0           Canceled              2016-01-18   \n",
       "53178                          0           Canceled              2016-02-25   \n",
       "87795                          1          Check-Out              2016-04-26   \n",
       "\n",
       "                  name                             email  phone-number  \\\n",
       "52997       Tanya Shaw              Shaw_Tanya77@att.com  719-682-1423   \n",
       "53178  Garrett Stanley  Garrett.Stanley87@protonmail.com  801-454-9551   \n",
       "87795     Travis Moore             Moore_Travis@zoho.com  257-761-0425   \n",
       "\n",
       "            credit_card  \n",
       "52997  ************7788  \n",
       "53178  ************1419  \n",
       "87795  ************3928  "
      ]
     },
     "execution_count": 7,
     "metadata": {},
     "output_type": "execute_result"
    }
   ],
   "source": [
    "hotel_booking.sample(3)"
   ]
  },
  {
   "cell_type": "code",
   "execution_count": 8,
   "id": "f90bd962",
   "metadata": {},
   "outputs": [],
   "source": [
    "# Se crea la tabla de fecha uniendo las columnas\n",
    "hotel_booking['arrival_date'] = pd.to_datetime(hotel_booking['arrival_date_year'].astype(str) + '-' + hotel_booking['arrival_date_month'] + '-' + hotel_booking['arrival_date_day_of_month'].astype(str))"
   ]
  },
  {
   "cell_type": "code",
   "execution_count": 9,
   "id": "449d1702",
   "metadata": {},
   "outputs": [],
   "source": [
    "# se eliminan las columnas innecesarias para el analisis\n",
    "hotel_booking = hotel_booking.drop(columns=['phone-number','email', 'arrival_date_year', 'arrival_date_month', 'arrival_date_week_number', 'arrival_date_day_of_month' ])"
   ]
  },
  {
   "cell_type": "code",
   "execution_count": 10,
   "id": "52e1ed01",
   "metadata": {},
   "outputs": [],
   "source": [
    "# se modifican los valores a enteros\n",
    "columas = ['children', 'agent']\n",
    "\n",
    "for column in columas:\n",
    "    hotel_booking[column] = hotel_booking[column].astype(str).str.replace('.0', '', regex=False)"
   ]
  },
  {
   "cell_type": "code",
   "execution_count": 11,
   "id": "448d7629",
   "metadata": {},
   "outputs": [
    {
     "data": {
      "text/html": [
       "<div>\n",
       "<style scoped>\n",
       "    .dataframe tbody tr th:only-of-type {\n",
       "        vertical-align: middle;\n",
       "    }\n",
       "\n",
       "    .dataframe tbody tr th {\n",
       "        vertical-align: top;\n",
       "    }\n",
       "\n",
       "    .dataframe thead th {\n",
       "        text-align: right;\n",
       "    }\n",
       "</style>\n",
       "<table border=\"1\" class=\"dataframe\">\n",
       "  <thead>\n",
       "    <tr style=\"text-align: right;\">\n",
       "      <th></th>\n",
       "      <th>hotel</th>\n",
       "      <th>is_canceled</th>\n",
       "      <th>lead_time</th>\n",
       "      <th>stays_in_weekend_nights</th>\n",
       "      <th>stays_in_week_nights</th>\n",
       "      <th>adults</th>\n",
       "      <th>children</th>\n",
       "      <th>babies</th>\n",
       "      <th>meal</th>\n",
       "      <th>country</th>\n",
       "      <th>market_segment</th>\n",
       "      <th>distribution_channel</th>\n",
       "      <th>is_repeated_guest</th>\n",
       "      <th>previous_cancellations</th>\n",
       "      <th>previous_bookings_not_canceled</th>\n",
       "      <th>reserved_room_type</th>\n",
       "      <th>assigned_room_type</th>\n",
       "      <th>booking_changes</th>\n",
       "      <th>deposit_type</th>\n",
       "      <th>agent</th>\n",
       "      <th>company</th>\n",
       "      <th>days_in_waiting_list</th>\n",
       "      <th>customer_type</th>\n",
       "      <th>adr</th>\n",
       "      <th>required_car_parking_spaces</th>\n",
       "      <th>total_of_special_requests</th>\n",
       "      <th>reservation_status</th>\n",
       "      <th>reservation_status_date</th>\n",
       "      <th>name</th>\n",
       "      <th>credit_card</th>\n",
       "      <th>arrival_date</th>\n",
       "    </tr>\n",
       "  </thead>\n",
       "  <tbody>\n",
       "    <tr>\n",
       "      <th>51977</th>\n",
       "      <td>City Hotel</td>\n",
       "      <td>0</td>\n",
       "      <td>160</td>\n",
       "      <td>0</td>\n",
       "      <td>2</td>\n",
       "      <td>2</td>\n",
       "      <td>0</td>\n",
       "      <td>0</td>\n",
       "      <td>BB</td>\n",
       "      <td>PRT</td>\n",
       "      <td>Online TA</td>\n",
       "      <td>TA/TO</td>\n",
       "      <td>0</td>\n",
       "      <td>0</td>\n",
       "      <td>0</td>\n",
       "      <td>D</td>\n",
       "      <td>E</td>\n",
       "      <td>15</td>\n",
       "      <td>No Deposit</td>\n",
       "      <td>9</td>\n",
       "      <td>NaN</td>\n",
       "      <td>0</td>\n",
       "      <td>Transient-Party</td>\n",
       "      <td>128.35</td>\n",
       "      <td>0</td>\n",
       "      <td>1</td>\n",
       "      <td>Check-Out</td>\n",
       "      <td>2016-05-29</td>\n",
       "      <td>Jennifer Miller</td>\n",
       "      <td>************9688</td>\n",
       "      <td>2016-05-27</td>\n",
       "    </tr>\n",
       "    <tr>\n",
       "      <th>103445</th>\n",
       "      <td>City Hotel</td>\n",
       "      <td>0</td>\n",
       "      <td>74</td>\n",
       "      <td>0</td>\n",
       "      <td>3</td>\n",
       "      <td>3</td>\n",
       "      <td>0</td>\n",
       "      <td>0</td>\n",
       "      <td>BB</td>\n",
       "      <td>FRA</td>\n",
       "      <td>Online TA</td>\n",
       "      <td>TA/TO</td>\n",
       "      <td>0</td>\n",
       "      <td>0</td>\n",
       "      <td>0</td>\n",
       "      <td>D</td>\n",
       "      <td>D</td>\n",
       "      <td>0</td>\n",
       "      <td>No Deposit</td>\n",
       "      <td>9</td>\n",
       "      <td>NaN</td>\n",
       "      <td>0</td>\n",
       "      <td>Transient</td>\n",
       "      <td>126.00</td>\n",
       "      <td>0</td>\n",
       "      <td>1</td>\n",
       "      <td>Check-Out</td>\n",
       "      <td>2016-12-25</td>\n",
       "      <td>Marissa Miller</td>\n",
       "      <td>************2573</td>\n",
       "      <td>2016-12-22</td>\n",
       "    </tr>\n",
       "    <tr>\n",
       "      <th>45038</th>\n",
       "      <td>City Hotel</td>\n",
       "      <td>1</td>\n",
       "      <td>102</td>\n",
       "      <td>0</td>\n",
       "      <td>2</td>\n",
       "      <td>1</td>\n",
       "      <td>0</td>\n",
       "      <td>0</td>\n",
       "      <td>HB</td>\n",
       "      <td>PRT</td>\n",
       "      <td>Offline TA/TO</td>\n",
       "      <td>TA/TO</td>\n",
       "      <td>0</td>\n",
       "      <td>0</td>\n",
       "      <td>0</td>\n",
       "      <td>A</td>\n",
       "      <td>A</td>\n",
       "      <td>0</td>\n",
       "      <td>No Deposit</td>\n",
       "      <td>6</td>\n",
       "      <td>NaN</td>\n",
       "      <td>0</td>\n",
       "      <td>Transient-Party</td>\n",
       "      <td>87.00</td>\n",
       "      <td>0</td>\n",
       "      <td>0</td>\n",
       "      <td>Canceled</td>\n",
       "      <td>2015-10-16</td>\n",
       "      <td>Jennifer French MD</td>\n",
       "      <td>************3803</td>\n",
       "      <td>2015-10-16</td>\n",
       "    </tr>\n",
       "  </tbody>\n",
       "</table>\n",
       "</div>"
      ],
      "text/plain": [
       "             hotel  is_canceled  lead_time  stays_in_weekend_nights  \\\n",
       "51977   City Hotel            0        160                        0   \n",
       "103445  City Hotel            0         74                        0   \n",
       "45038   City Hotel            1        102                        0   \n",
       "\n",
       "        stays_in_week_nights  adults children  babies meal country  \\\n",
       "51977                      2       2        0       0   BB     PRT   \n",
       "103445                     3       3        0       0   BB     FRA   \n",
       "45038                      2       1        0       0   HB     PRT   \n",
       "\n",
       "       market_segment distribution_channel  is_repeated_guest  \\\n",
       "51977       Online TA                TA/TO                  0   \n",
       "103445      Online TA                TA/TO                  0   \n",
       "45038   Offline TA/TO                TA/TO                  0   \n",
       "\n",
       "        previous_cancellations  previous_bookings_not_canceled  \\\n",
       "51977                        0                               0   \n",
       "103445                       0                               0   \n",
       "45038                        0                               0   \n",
       "\n",
       "       reserved_room_type assigned_room_type  booking_changes deposit_type  \\\n",
       "51977                   D                  E               15   No Deposit   \n",
       "103445                  D                  D                0   No Deposit   \n",
       "45038                   A                  A                0   No Deposit   \n",
       "\n",
       "       agent  company  days_in_waiting_list    customer_type     adr  \\\n",
       "51977      9      NaN                     0  Transient-Party  128.35   \n",
       "103445     9      NaN                     0        Transient  126.00   \n",
       "45038      6      NaN                     0  Transient-Party   87.00   \n",
       "\n",
       "        required_car_parking_spaces  total_of_special_requests  \\\n",
       "51977                             0                          1   \n",
       "103445                            0                          1   \n",
       "45038                             0                          0   \n",
       "\n",
       "       reservation_status reservation_status_date                name  \\\n",
       "51977           Check-Out              2016-05-29     Jennifer Miller   \n",
       "103445          Check-Out              2016-12-25      Marissa Miller   \n",
       "45038            Canceled              2015-10-16  Jennifer French MD   \n",
       "\n",
       "             credit_card arrival_date  \n",
       "51977   ************9688   2016-05-27  \n",
       "103445  ************2573   2016-12-22  \n",
       "45038   ************3803   2015-10-16  "
      ]
     },
     "execution_count": 11,
     "metadata": {},
     "output_type": "execute_result"
    }
   ],
   "source": [
    "hotel_booking.sample(3)"
   ]
  },
  {
   "cell_type": "markdown",
   "id": "735abf7e",
   "metadata": {},
   "source": [
    "### Exploracion de variables\n"
   ]
  },
  {
   "cell_type": "markdown",
   "id": "1ed26e5a",
   "metadata": {},
   "source": [
    "#### Variables Categoricas"
   ]
  },
  {
   "cell_type": "code",
   "execution_count": 12,
   "id": "a8332fef",
   "metadata": {},
   "outputs": [
    {
     "name": "stdout",
     "output_type": "stream",
     "text": [
      "['Resort Hotel' 'City Hotel']\n"
     ]
    }
   ],
   "source": [
    "# Se visualiza la variable hotel\n",
    "hotel = hotel_booking['hotel'].unique()\n",
    "print(hotel)"
   ]
  },
  {
   "cell_type": "code",
   "execution_count": 13,
   "id": "f7f1eaad",
   "metadata": {},
   "outputs": [
    {
     "name": "stdout",
     "output_type": "stream",
     "text": [
      "[0 1]\n"
     ]
    }
   ],
   "source": [
    "# Se visualiza la variable is_canceled\n",
    "cancelado = hotel_booking['is_canceled'].unique()\n",
    "print(cancelado)"
   ]
  },
  {
   "cell_type": "code",
   "execution_count": 14,
   "id": "c3ef6085",
   "metadata": {},
   "outputs": [
    {
     "name": "stdout",
     "output_type": "stream",
     "text": [
      "['BB' 'FB' 'HB' 'SC' 'Undefined']\n"
     ]
    }
   ],
   "source": [
    "# Se visualiza la variable meal\n",
    "meal = hotel_booking['meal'].unique()\n",
    "print(meal)"
   ]
  },
  {
   "cell_type": "code",
   "execution_count": 15,
   "id": "d13a5535",
   "metadata": {},
   "outputs": [
    {
     "name": "stdout",
     "output_type": "stream",
     "text": [
      "[ 2  1  3  4 40 26 50 27 55  0 20  6  5 10]\n"
     ]
    }
   ],
   "source": [
    "# Se visualiza la variable\n",
    "adults = hotel_booking['adults'].unique()\n",
    "print(adults)"
   ]
  },
  {
   "cell_type": "code",
   "execution_count": 16,
   "id": "78d24e71",
   "metadata": {},
   "outputs": [
    {
     "name": "stdout",
     "output_type": "stream",
     "text": [
      "['0' '1' '2' '10' '3' 'nan']\n"
     ]
    }
   ],
   "source": [
    "# Se visualiza la variable children\n",
    "children = hotel_booking['children'].unique()\n",
    "print(children)"
   ]
  },
  {
   "cell_type": "code",
   "execution_count": 17,
   "id": "f4d2d216",
   "metadata": {},
   "outputs": [
    {
     "name": "stdout",
     "output_type": "stream",
     "text": [
      "[ 0  1  2 10  9]\n"
     ]
    }
   ],
   "source": [
    "# Se visualiza la variable babies\n",
    "babies = hotel_booking['babies'].unique()\n",
    "print(babies)"
   ]
  },
  {
   "cell_type": "code",
   "execution_count": 18,
   "id": "ca48905e",
   "metadata": {},
   "outputs": [
    {
     "name": "stdout",
     "output_type": "stream",
     "text": [
      "['PRT' 'GBR' 'USA' 'ESP' 'IRL' 'FRA' nan 'ROU' 'NOR' 'OMN' 'ARG' 'POL'\n",
      " 'DEU' 'BEL' 'CHE' 'CN' 'GRC' 'ITA' 'NLD' 'DNK' 'RUS' 'SWE' 'AUS' 'EST'\n",
      " 'CZE' 'BRA' 'FIN' 'MOZ' 'BWA' 'LUX' 'SVN' 'ALB' 'IND' 'CHN' 'MEX' 'MAR'\n",
      " 'UKR' 'SMR' 'LVA' 'PRI' 'SRB' 'CHL' 'AUT' 'BLR' 'LTU' 'TUR' 'ZAF' 'AGO'\n",
      " 'ISR' 'CYM' 'ZMB' 'CPV' 'ZWE' 'DZA' 'KOR' 'CRI' 'HUN' 'ARE' 'TUN' 'JAM'\n",
      " 'HRV' 'HKG' 'IRN' 'GEO' 'AND' 'GIB' 'URY' 'JEY' 'CAF' 'CYP' 'COL' 'GGY'\n",
      " 'KWT' 'NGA' 'MDV' 'VEN' 'SVK' 'FJI' 'KAZ' 'PAK' 'IDN' 'LBN' 'PHL' 'SEN'\n",
      " 'SYC' 'AZE' 'BHR' 'NZL' 'THA' 'DOM' 'MKD' 'MYS' 'ARM' 'JPN' 'LKA' 'CUB'\n",
      " 'CMR' 'BIH' 'MUS' 'COM' 'SUR' 'UGA' 'BGR' 'CIV' 'JOR' 'SYR' 'SGP' 'BDI'\n",
      " 'SAU' 'VNM' 'PLW' 'QAT' 'EGY' 'PER' 'MLT' 'MWI' 'ECU' 'MDG' 'ISL' 'UZB'\n",
      " 'NPL' 'BHS' 'MAC' 'TGO' 'TWN' 'DJI' 'STP' 'KNA' 'ETH' 'IRQ' 'HND' 'RWA'\n",
      " 'KHM' 'MCO' 'BGD' 'IMN' 'TJK' 'NIC' 'BEN' 'VGB' 'TZA' 'GAB' 'GHA' 'TMP'\n",
      " 'GLP' 'KEN' 'LIE' 'GNB' 'MNE' 'UMI' 'MYT' 'FRO' 'MMR' 'PAN' 'BFA' 'LBY'\n",
      " 'MLI' 'NAM' 'BOL' 'PRY' 'BRB' 'ABW' 'AIA' 'SLV' 'DMA' 'PYF' 'GUY' 'LCA'\n",
      " 'ATA' 'GTM' 'ASM' 'MRT' 'NCL' 'KIR' 'SDN' 'ATF' 'SLE' 'LAO']\n"
     ]
    }
   ],
   "source": [
    "# Se visualiza la variable country\n",
    "country = hotel_booking['country'].unique()\n",
    "print(country)"
   ]
  },
  {
   "cell_type": "code",
   "execution_count": 19,
   "id": "97d0f4a2",
   "metadata": {},
   "outputs": [
    {
     "name": "stdout",
     "output_type": "stream",
     "text": [
      "['Direct' 'Corporate' 'Online TA' 'Offline TA/TO' 'Complementary' 'Groups'\n",
      " 'Undefined' 'Aviation']\n"
     ]
    }
   ],
   "source": [
    "# Se visualiza la variable market_segment\n",
    "market_segment = hotel_booking['market_segment'].unique()\n",
    "print(market_segment)"
   ]
  },
  {
   "cell_type": "code",
   "execution_count": 20,
   "id": "732a7264",
   "metadata": {},
   "outputs": [
    {
     "name": "stdout",
     "output_type": "stream",
     "text": [
      "['Direct' 'Corporate' 'TA/TO' 'Undefined' 'GDS']\n"
     ]
    }
   ],
   "source": [
    "# Se visualiza la variable distribution_channel\n",
    "distribution_channel = hotel_booking['distribution_channel'].unique()\n",
    "print(distribution_channel)"
   ]
  },
  {
   "cell_type": "code",
   "execution_count": 21,
   "id": "fa25b36b",
   "metadata": {},
   "outputs": [
    {
     "name": "stdout",
     "output_type": "stream",
     "text": [
      "['nan' '304' '240' '303' '15' '241' '8' '250' '115' '5' '175' '134' '156'\n",
      " '243' '242' '3' '105' '40' '147' '306' '184' '96' '2' '127' '95' '146'\n",
      " '9' '177' '6' '143' '244' '149' '167' '300' '171' '305' '67' '196' '152'\n",
      " '142' '261' '104' '36' '26' '29' '258' '110' '71' '181' '88' '251' '275'\n",
      " '69' '248' '208' '256' '314' '126' '281' '273' '253' '185' '330' '334'\n",
      " '328' '326' '321' '324' '313' '38' '155' '68' '335' '308' '332' '94'\n",
      " '348' '310' '339' '375' '66' '327' '387' '298' '91' '245' '385' '257'\n",
      " '393' '168' '405' '249' '315' '75' '128' '307' '11' '436' '1' '201' '183'\n",
      " '223' '368' '336' '291' '464' '411' '481' '10' '154' '468' '410' '390'\n",
      " '440' '495' '492' '493' '434' '57' '531' '420' '483' '526' '472' '429'\n",
      " '16' '446' '34' '78' '139' '252' '270' '47' '114' '301' '193' '182' '135'\n",
      " '350' '195' '352' '355' '159' '363' '384' '360' '331' '367' '64' '406'\n",
      " '163' '414' '333' '427' '431' '430' '426' '438' '433' '418' '441' '282'\n",
      " '432' '72' '450' '180' '454' '455' '59' '451' '254' '358' '469' '165'\n",
      " '467' '510' '337' '476' '502' '527' '479' '508' '535' '302' '497' '187'\n",
      " '13' '7' '27' '14' '22' '17' '28' '42' '20' '19' '45' '37' '61' '39' '21'\n",
      " '24' '41' '50' '30' '54' '52' '12' '44' '31' '83' '32' '63' '60' '55'\n",
      " '56' '89' '87' '118' '86' '85' '210' '214' '129' '179' '138' '174' '170'\n",
      " '153' '93' '151' '119' '35' '173' '58' '53' '133' '79' '235' '192' '191'\n",
      " '236' '162' '215' '157' '287' '132' '234' '98' '77' '103' '107' '262'\n",
      " '220' '121' '205' '378' '23' '296' '290' '229' '33' '286' '276' '425'\n",
      " '484' '323' '403' '219' '394' '509' '111' '423' '4' '70' '82' '81' '74'\n",
      " '92' '99' '90' '112' '117' '106' '148' '158' '144' '211' '213' '216'\n",
      " '232' '150' '267' '227' '247' '278' '280' '285' '289' '269' '295' '265'\n",
      " '288' '122' '294' '325' '341' '344' '346' '359' '283' '364' '370' '371'\n",
      " '25' '141' '391' '397' '416' '404' '299' '197' '73' '354' '444' '408'\n",
      " '461' '388' '453' '459' '474' '475' '480' '449']\n"
     ]
    }
   ],
   "source": [
    "# Se visualiza la variable agent\n",
    "agent = hotel_booking['agent'].unique()\n",
    "print(agent)"
   ]
  },
  {
   "cell_type": "code",
   "execution_count": 22,
   "id": "1a1303cb",
   "metadata": {},
   "outputs": [
    {
     "name": "stdout",
     "output_type": "stream",
     "text": [
      "['Transient' 'Contract' 'Transient-Party' 'Group']\n"
     ]
    }
   ],
   "source": [
    "# Se visualiza la variable customer_type\n",
    "customer_type = hotel_booking['customer_type'].unique()\n",
    "print(customer_type)"
   ]
  },
  {
   "cell_type": "code",
   "execution_count": 23,
   "id": "44c34cfd",
   "metadata": {},
   "outputs": [
    {
     "name": "stdout",
     "output_type": "stream",
     "text": [
      "['Check-Out' 'Canceled' 'No-Show']\n"
     ]
    }
   ],
   "source": [
    "# Se visualiza la variable reservation_status\n",
    "reservation_status = hotel_booking['reservation_status'].unique()\n",
    "print(reservation_status)"
   ]
  },
  {
   "cell_type": "code",
   "execution_count": 24,
   "id": "d9d3d16e",
   "metadata": {},
   "outputs": [
    {
     "name": "stdout",
     "output_type": "stream",
     "text": [
      "['C' 'A' 'D' 'E' 'G' 'F' 'H' 'L' 'P' 'B']\n"
     ]
    }
   ],
   "source": [
    "# Se visualiza la variable reservation_status\n",
    "reserved_room_type = hotel_booking['reserved_room_type'].unique()\n",
    "print(reserved_room_type)"
   ]
  },
  {
   "cell_type": "code",
   "execution_count": 25,
   "id": "5b64307a",
   "metadata": {},
   "outputs": [
    {
     "name": "stdout",
     "output_type": "stream",
     "text": [
      "['C' 'A' 'D' 'E' 'G' 'F' 'H' 'L' 'P' 'B']\n"
     ]
    }
   ],
   "source": [
    "# Se visualiza la variable previous_cancellations\n",
    "reserved_room_type = hotel_booking['reserved_room_type'].unique()\n",
    "print(reserved_room_type) "
   ]
  },
  {
   "cell_type": "code",
   "execution_count": 26,
   "id": "4ca029a9",
   "metadata": {},
   "outputs": [
    {
     "name": "stdout",
     "output_type": "stream",
     "text": [
      "['C' 'A' 'D' 'E' 'G' 'F' 'I' 'B' 'H' 'P' 'L' 'K']\n"
     ]
    }
   ],
   "source": [
    "# Se visualiza la variable previous_cancellations\n",
    "assigned_room_type = hotel_booking['assigned_room_type'].unique()\n",
    "print(assigned_room_type) "
   ]
  },
  {
   "cell_type": "code",
   "execution_count": 27,
   "id": "5fac0b9d",
   "metadata": {},
   "outputs": [
    {
     "name": "stdout",
     "output_type": "stream",
     "text": [
      "['Check-Out' 'Canceled' 'No-Show']\n"
     ]
    }
   ],
   "source": [
    "# Se visualiza la variable previous_cancellations\n",
    "reservation_status = hotel_booking['reservation_status'].unique()\n",
    "print(reservation_status) "
   ]
  },
  {
   "cell_type": "code",
   "execution_count": 28,
   "id": "db80d7b5",
   "metadata": {},
   "outputs": [
    {
     "name": "stdout",
     "output_type": "stream",
     "text": [
      "['Transient' 'Contract' 'Transient-Party' 'Group']\n"
     ]
    }
   ],
   "source": [
    "# Se visualiza la variable previous_cancellations\n",
    "customer_type = hotel_booking['customer_type'].unique()\n",
    "print(customer_type) "
   ]
  },
  {
   "cell_type": "code",
   "execution_count": 29,
   "id": "c466ae4c",
   "metadata": {},
   "outputs": [
    {
     "name": "stdout",
     "output_type": "stream",
     "text": [
      "['No Deposit' 'Refundable' 'Non Refund']\n"
     ]
    }
   ],
   "source": [
    "# Se visualiza la variable deposit_type\n",
    "deposit_type = hotel_booking['deposit_type'].unique()\n",
    "print(deposit_type) "
   ]
  },
  {
   "cell_type": "markdown",
   "id": "d49f9e3b",
   "metadata": {},
   "source": [
    "#### Variables Booleanas"
   ]
  },
  {
   "cell_type": "code",
   "execution_count": 30,
   "id": "6c0bc5fb",
   "metadata": {},
   "outputs": [
    {
     "name": "stdout",
     "output_type": "stream",
     "text": [
      "[0 1]\n"
     ]
    }
   ],
   "source": [
    "# Se visualiza la variable is_repeated_guest\n",
    "is_repeated_guest = hotel_booking['is_repeated_guest'].unique()\n",
    "print(is_repeated_guest)"
   ]
  },
  {
   "cell_type": "markdown",
   "id": "0f74ac6d",
   "metadata": {},
   "source": [
    "#### Variables con fecha y numéricas"
   ]
  },
  {
   "cell_type": "code",
   "execution_count": 31,
   "id": "0cc89260",
   "metadata": {},
   "outputs": [
    {
     "name": "stdout",
     "output_type": "stream",
     "text": [
      "Fecha mínima: 2014-10-17\n",
      "Fecha máxima: 2017-09-14\n"
     ]
    }
   ],
   "source": [
    "# La fecha en que se actualizó el estado de la reserva\n",
    "print(\"Fecha mínima:\", hotel_booking['reservation_status_date'].min())\n",
    "print(\"Fecha máxima:\", hotel_booking['reservation_status_date'].max())"
   ]
  },
  {
   "cell_type": "code",
   "execution_count": 46,
   "id": "acb3a4be",
   "metadata": {},
   "outputs": [
    {
     "name": "stdout",
     "output_type": "stream",
     "text": [
      "Mínimo: 0\n",
      "Máximo: 391\n"
     ]
    }
   ],
   "source": [
    "# La fecha en que se actualizó el estado de la reserva\n",
    "print(\"Mínimo:\", hotel_booking['days_in_waiting_list'].min())\n",
    "print(\"Máximo:\", hotel_booking['days_in_waiting_list'].max())"
   ]
  },
  {
   "cell_type": "code",
   "execution_count": 32,
   "id": "bb18311c",
   "metadata": {},
   "outputs": [
    {
     "name": "stdout",
     "output_type": "stream",
     "text": [
      "Días mínimo: 0\n",
      "Días máximO: 737\n"
     ]
    }
   ],
   "source": [
    "#  El número de días que pasaron desde la fecha de reserva hasta la fecha de llegada\n",
    "print(\"Días mínimo:\", hotel_booking['lead_time'].min())\n",
    "print(\"Días máximO:\", hotel_booking['lead_time'].max())"
   ]
  },
  {
   "cell_type": "code",
   "execution_count": 45,
   "id": "86eea204",
   "metadata": {},
   "outputs": [
    {
     "name": "stdout",
     "output_type": "stream",
     "text": [
      "[ 0  1  2 10  9]\n"
     ]
    }
   ],
   "source": [
    "# Se visualiza la variable previous_cancellations\n",
    "babies = hotel_booking['babies'].unique()\n",
    "print(babies)"
   ]
  },
  {
   "cell_type": "code",
   "execution_count": 44,
   "id": "732922b9",
   "metadata": {},
   "outputs": [
    {
     "name": "stdout",
     "output_type": "stream",
     "text": [
      "['0' '1' '2' '10' '3' 'nan']\n"
     ]
    }
   ],
   "source": [
    "# Se visualiza la variable previous_cancellations\n",
    "children = hotel_booking['children'].unique()\n",
    "print(children)"
   ]
  },
  {
   "cell_type": "code",
   "execution_count": 35,
   "id": "b14c216c",
   "metadata": {},
   "outputs": [
    {
     "name": "stdout",
     "output_type": "stream",
     "text": [
      "Mínimo: 0\n",
      "MáximO: 55\n"
     ]
    }
   ],
   "source": [
    "# Minimo y maximo de la cariable adults\n",
    "print(\"Mínimo:\", hotel_booking['adults'].min())\n",
    "print(\"MáximO:\", hotel_booking['adults'].max())"
   ]
  },
  {
   "cell_type": "code",
   "execution_count": 36,
   "id": "ace76065",
   "metadata": {},
   "outputs": [
    {
     "name": "stdout",
     "output_type": "stream",
     "text": [
      "Mínimo: 0\n",
      "MáximO: 50\n"
     ]
    }
   ],
   "source": [
    "# Minimo y maximo de la cariable stays_in_week_nights\n",
    "print(\"Mínimo:\", hotel_booking['stays_in_week_nights'].min())\n",
    "print(\"MáximO:\", hotel_booking['stays_in_week_nights'].max())"
   ]
  },
  {
   "cell_type": "code",
   "execution_count": 37,
   "id": "a99e490d",
   "metadata": {},
   "outputs": [
    {
     "name": "stdout",
     "output_type": "stream",
     "text": [
      "Mínimo: 0\n",
      "MáximO: 19\n"
     ]
    }
   ],
   "source": [
    "# Minimo y maximo de la cariable stays_in_weekend_nights\n",
    "print(\"Mínimo:\", hotel_booking['stays_in_weekend_nights'].min())\n",
    "print(\"MáximO:\", hotel_booking['stays_in_weekend_nights'].max())"
   ]
  },
  {
   "cell_type": "code",
   "execution_count": 38,
   "id": "b59235ee",
   "metadata": {},
   "outputs": [
    {
     "name": "stdout",
     "output_type": "stream",
     "text": [
      "[ 0  1  2  3 26 25 14  4 24 19  5 21  6 13 11]\n"
     ]
    }
   ],
   "source": [
    "# Se visualiza la variable previous_cancellations\n",
    "previous_cancellations = hotel_booking['previous_cancellations'].unique()\n",
    "print(previous_cancellations)"
   ]
  },
  {
   "cell_type": "code",
   "execution_count": 39,
   "id": "92c4de02",
   "metadata": {},
   "outputs": [
    {
     "name": "stdout",
     "output_type": "stream",
     "text": [
      "[ 0  1  2  3  4  5  6  7  8  9 10 11 12 13 14 15 16 17 18 20 21 22 23 24\n",
      " 25 27 28 29 30 19 26 31 32 33 34 35 36 37 38 39 40 41 42 43 44 45 46 47\n",
      " 48 49 50 51 52 53 54 55 56 57 58 59 60 61 62 63 64 65 66 67 68 69 70 71\n",
      " 72]\n"
     ]
    }
   ],
   "source": [
    "# Se visualiza la variable previous_cancellations\n",
    "previous_bookings_not_canceled = hotel_booking['previous_bookings_not_canceled'].unique()\n",
    "print(previous_bookings_not_canceled) "
   ]
  },
  {
   "cell_type": "code",
   "execution_count": 40,
   "id": "a3831f66",
   "metadata": {},
   "outputs": [
    {
     "name": "stdout",
     "output_type": "stream",
     "text": [
      "[0 1 3 2 4 5]\n"
     ]
    }
   ],
   "source": [
    "# Se visualiza la variable previous_cancellations\n",
    "total_of_special_requests = hotel_booking['total_of_special_requests'].unique()\n",
    "print(total_of_special_requests) "
   ]
  },
  {
   "cell_type": "code",
   "execution_count": 41,
   "id": "80a9cd39",
   "metadata": {},
   "outputs": [
    {
     "name": "stdout",
     "output_type": "stream",
     "text": [
      "[0 1 2 8 3]\n"
     ]
    }
   ],
   "source": [
    "# Se visualiza la variable previous_cancellations\n",
    "required_car_parking_spaces = hotel_booking['required_car_parking_spaces'].unique()\n",
    "print(required_car_parking_spaces) "
   ]
  },
  {
   "cell_type": "code",
   "execution_count": 42,
   "id": "93a9b55d",
   "metadata": {},
   "outputs": [
    {
     "name": "stdout",
     "output_type": "stream",
     "text": [
      "[  0  50  47  65 122  75 101 150 125  14  60  34 100  22 121  61  39   5\n",
      "   1   8 107  43  52   2  11 142 116  13  44  97  83   4 113  18  20 185\n",
      "  93 109   6  37 105 154  64  99  38  48  33  77  21  80  59  40  58  89\n",
      "  53  49  69  87  91  57 111  79  98  85  63  15   3  41 224  31  56 187\n",
      " 176  71  55  96 236 259 207 215 160 120  30  32  27  62  24 108 147 379\n",
      "  70  35 178 330 223 174 162 391  68 193  10  76  16  28   9 165  17  25\n",
      "  46   7  84 175 183  23 117  12  54  26  73  45  19  42  72  81  92  74\n",
      " 167  36]\n"
     ]
    }
   ],
   "source": [
    "# Se visualiza la variable days_in_waiting_list\n",
    "days_in_waiting_list = hotel_booking['days_in_waiting_list'].unique()\n",
    "print(days_in_waiting_list) "
   ]
  },
  {
   "cell_type": "code",
   "execution_count": 43,
   "id": "d7ee1e98",
   "metadata": {},
   "outputs": [
    {
     "name": "stdout",
     "output_type": "stream",
     "text": [
      "[ 3  4  0  1  2  5 17  6  8  7 10 16  9 13 12 20 14 15 11 21 18]\n"
     ]
    }
   ],
   "source": [
    "# Se visualiza la variable booking_changes\n",
    "booking_changes = hotel_booking['booking_changes'].unique()\n",
    "print(booking_changes) "
   ]
  }
 ],
 "metadata": {
  "kernelspec": {
   "display_name": "Python 3 (ipykernel)",
   "language": "python",
   "name": "python3"
  },
  "language_info": {
   "codemirror_mode": {
    "name": "ipython",
    "version": 3
   },
   "file_extension": ".py",
   "mimetype": "text/x-python",
   "name": "python",
   "nbconvert_exporter": "python",
   "pygments_lexer": "ipython3",
   "version": "3.10.9"
  }
 },
 "nbformat": 4,
 "nbformat_minor": 5
}

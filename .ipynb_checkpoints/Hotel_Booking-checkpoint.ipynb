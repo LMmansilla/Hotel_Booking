{
 "cells": [
  {
   "cell_type": "markdown",
   "id": "72c86cbd",
   "metadata": {},
   "source": [
    "### Preyecto Hotel Booking - Análisis y Predicción\n",
    "\n",
    "#### Introducción:\n",
    "\n",
    "El sector hotelero es uno de los pilares fundamentales de la industria turística. Con el crecimiento constante de la industria, la gestión eficiente de los hoteles se vuelve cada vez más crucial. En este contexto, el análisis de datos se ha convertido en una herramienta invaluable para comprender mejor las tendencias, los patrones y los factores que afectan el desempeño y la operación de los hoteles. En este estudio, se analizará el conjunto de datos de reservas de hotel para extraer información significativa que pueda ayudar a mejorar la gestión y la toma de decisiones en el sector.\n",
    "\n",
    "#### Objetivo:\n",
    "\n",
    "El objetivo principal de este estudio es analizar el conjunto de datos de reservas de hotel y extraer información relevante que pueda proporcionar insights valiosos para la industria hotelera. Se buscará comprender los factores que influyen en las cancelaciones de reservas, así como identificar patrones de comportamiento de los huéspedes y tendencias en las preferencias de reserva. Además, se pretende desarrollar modelos predictivos que puedan predecir las cancelaciones de reservas con precisión, lo que permitirá a los hoteles anticiparse a posibles problemas y optimizar su capacidad de gestión.\n",
    "\n",
    "#### Aspectos a estudiar:\n",
    "\n",
    "- La cantidad de días de anticipación con la que se realiza una reserva influirá significativamente en la probabilidad de cancelación de la reserva.\n",
    "- El tipo de deposito requerido afectará la propensión a cancelar una reserva, siendo las reservas sin depósito más propensas a cancelarse.\n",
    "- El tipo de cliente puede tener una relación con la frecuencia de cancelaciones, siendo los clientes corporativos menos propensos a cancelar que los clientes transientes.\n",
    "- La disponibilidad de estacionamiento puede influir en la decisión de cancelar una reserva, especialmente para huéspedes que viajan en automóvil.\n",
    "- El número total de solicitudes especiales puede estar correlacionado con la satisfacción del cliente y, por lo tanto, con la probabilidad de cancelación de la reserva.\n",
    "\n",
    "Fuente: https://www.kaggle.com/datasets/mojtaba142/hotel-booking"
   ]
  },
  {
   "cell_type": "markdown",
   "id": "71ac8312",
   "metadata": {},
   "source": [
    "#### Nombre y definición de variables\n",
    "\n",
    "- **hotel**: El nombre del hotel.\n",
    "- **is_canceled**: Indica si la reserva fue cancelada (1) o no (0).\n",
    "- **lead_time**: El número de días que pasaron desde la fecha de reserva hasta la fecha de llegada.\n",
    "- **arrival_date_year**: El año de llegada.\n",
    "- **arrival_date_month**: El mes de llegada.\n",
    "- **arrival_date_week_number**: El número de semana del año en que llegaron los huéspedes.\n",
    "- **arrival_date_day_of_month**: El día del mes de llegada.\n",
    "- **stays_in_weekend_nights**: El número de noches que el cliente se quedó durante los fines de semana.\n",
    "- **stays_in_week_nights**: El número de noches que el cliente se quedó durante la semana.\n",
    "- **adults**: El número de adultos en la reserva.\n",
    "- **children**: El número de niños en la reserva.\n",
    "- **babies**: El número de bebés en la reserva.\n",
    "- **meal**: El tipo de comida reservada.\n",
    "- **country**: El país de origen del cliente.\n",
    "- **market_segment**: El segmento de mercado al que pertenece la reserva.\n",
    "- **distribution_channel**: El canal de distribución utilizado para realizar la reserva.\n",
    "- **is_repeated_guest**: Indica si el cliente es un huésped repetido (1) o no (0).\n",
    "- **previous_cancellations**: El número de reservas canceladas por el cliente previamente.\n",
    "- **previous_bookings_not_canceled**: El número de reservas previas que no fueron canceladas por el cliente.\n",
    "- **reserved_room_type**: El tipo de habitación reservada.\n",
    "- **assigned_room_type**: El tipo de habitación asignada al cliente.\n",
    "- **booking_changes**: El número de cambios realizados en la reserva desde su creación hasta el check-in o cancelación.\n",
    "- **deposit_type**: El tipo de depósito realizado para la reserva.\n",
    "- **agent**: El ID del agente que realizó la reserva.\n",
    "- **company**: El ID de la compañía que realizó la reserva.\n",
    "- **days_in_waiting_list**: El número de días que la reserva estuvo en la lista de espera antes de ser confirmada.\n",
    "- **customer_type**: El tipo de cliente (por ejemplo, contractual, grupo, transitorios, etc.).\n",
    "- **adr**: Tasa diaria promedio, indica el precio medio de una habitación por noche.\n",
    "- **required_car_parking_spaces**: El número de plazas de aparcamiento requeridas por el cliente.\n",
    "- **total_of_special_requests**: El número total de peticiones especiales realizadas por el cliente.\n",
    "- **reservation_status**: El estado de la reserva (por ejemplo, Confirmado, Cancelado, etc.).\n",
    "- **reservation_status_date**: La fecha en que se actualizó el estado de la reserva.\n",
    "- **credit_card?**: Indica si se utilizó una tarjeta de crédito para realizar la reserva."
   ]
  },
  {
   "cell_type": "code",
   "execution_count": 2,
   "id": "b0a15379",
   "metadata": {},
   "outputs": [],
   "source": [
    "import pandas as pd\n",
    "import matplotlib.pyplot as plt"
   ]
  },
  {
   "cell_type": "code",
   "execution_count": 3,
   "id": "c3bc67d3",
   "metadata": {},
   "outputs": [],
   "source": [
    "# Configuraraciones\n",
    "pd.set_option('display.max_columns', None)"
   ]
  },
  {
   "cell_type": "code",
   "execution_count": 4,
   "id": "09a4e0f1",
   "metadata": {},
   "outputs": [],
   "source": [
    "# Se carga el Dataset\n",
    "hotel_booking = pd.read_csv('../data/hotel_booking.csv')"
   ]
  },
  {
   "cell_type": "code",
   "execution_count": 5,
   "id": "393d5f62",
   "metadata": {},
   "outputs": [
    {
     "data": {
      "text/plain": [
       "(119390, 36)"
      ]
     },
     "execution_count": 5,
     "metadata": {},
     "output_type": "execute_result"
    }
   ],
   "source": [
    "hotel_booking.shape"
   ]
  },
  {
   "cell_type": "code",
   "execution_count": 6,
   "id": "6c79a45f",
   "metadata": {},
   "outputs": [
    {
     "name": "stdout",
     "output_type": "stream",
     "text": [
      "['hotel', 'is_canceled', 'lead_time', 'arrival_date_year', 'arrival_date_month', 'arrival_date_week_number', 'arrival_date_day_of_month', 'stays_in_weekend_nights', 'stays_in_week_nights', 'adults', 'children', 'babies', 'meal', 'country', 'market_segment', 'distribution_channel', 'is_repeated_guest', 'previous_cancellations', 'previous_bookings_not_canceled', 'reserved_room_type', 'assigned_room_type', 'booking_changes', 'deposit_type', 'agent', 'company', 'days_in_waiting_list', 'customer_type', 'adr', 'required_car_parking_spaces', 'total_of_special_requests', 'reservation_status', 'reservation_status_date', 'name', 'email', 'phone-number', 'credit_card']\n"
     ]
    }
   ],
   "source": [
    "# variables del dataset\n",
    "lista_variables = hotel_booking.columns.tolist()\n",
    "print(lista_variables)  "
   ]
  },
  {
   "cell_type": "code",
   "execution_count": 7,
   "id": "2b14a0dc",
   "metadata": {},
   "outputs": [
    {
     "data": {
      "text/html": [
       "<div>\n",
       "<style scoped>\n",
       "    .dataframe tbody tr th:only-of-type {\n",
       "        vertical-align: middle;\n",
       "    }\n",
       "\n",
       "    .dataframe tbody tr th {\n",
       "        vertical-align: top;\n",
       "    }\n",
       "\n",
       "    .dataframe thead th {\n",
       "        text-align: right;\n",
       "    }\n",
       "</style>\n",
       "<table border=\"1\" class=\"dataframe\">\n",
       "  <thead>\n",
       "    <tr style=\"text-align: right;\">\n",
       "      <th></th>\n",
       "      <th>hotel</th>\n",
       "      <th>is_canceled</th>\n",
       "      <th>lead_time</th>\n",
       "      <th>arrival_date_year</th>\n",
       "      <th>arrival_date_month</th>\n",
       "      <th>arrival_date_week_number</th>\n",
       "      <th>arrival_date_day_of_month</th>\n",
       "      <th>stays_in_weekend_nights</th>\n",
       "      <th>stays_in_week_nights</th>\n",
       "      <th>adults</th>\n",
       "      <th>children</th>\n",
       "      <th>babies</th>\n",
       "      <th>meal</th>\n",
       "      <th>country</th>\n",
       "      <th>market_segment</th>\n",
       "      <th>distribution_channel</th>\n",
       "      <th>is_repeated_guest</th>\n",
       "      <th>previous_cancellations</th>\n",
       "      <th>previous_bookings_not_canceled</th>\n",
       "      <th>reserved_room_type</th>\n",
       "      <th>assigned_room_type</th>\n",
       "      <th>booking_changes</th>\n",
       "      <th>deposit_type</th>\n",
       "      <th>agent</th>\n",
       "      <th>company</th>\n",
       "      <th>days_in_waiting_list</th>\n",
       "      <th>customer_type</th>\n",
       "      <th>adr</th>\n",
       "      <th>required_car_parking_spaces</th>\n",
       "      <th>total_of_special_requests</th>\n",
       "      <th>reservation_status</th>\n",
       "      <th>reservation_status_date</th>\n",
       "      <th>name</th>\n",
       "      <th>email</th>\n",
       "      <th>phone-number</th>\n",
       "      <th>credit_card</th>\n",
       "    </tr>\n",
       "  </thead>\n",
       "  <tbody>\n",
       "    <tr>\n",
       "      <th>750</th>\n",
       "      <td>Resort Hotel</td>\n",
       "      <td>1</td>\n",
       "      <td>34</td>\n",
       "      <td>2015</td>\n",
       "      <td>July</td>\n",
       "      <td>31</td>\n",
       "      <td>27</td>\n",
       "      <td>1</td>\n",
       "      <td>4</td>\n",
       "      <td>2</td>\n",
       "      <td>0.0</td>\n",
       "      <td>0</td>\n",
       "      <td>HB</td>\n",
       "      <td>PRT</td>\n",
       "      <td>Online TA</td>\n",
       "      <td>TA/TO</td>\n",
       "      <td>0</td>\n",
       "      <td>0</td>\n",
       "      <td>0</td>\n",
       "      <td>A</td>\n",
       "      <td>A</td>\n",
       "      <td>0</td>\n",
       "      <td>No Deposit</td>\n",
       "      <td>240.0</td>\n",
       "      <td>NaN</td>\n",
       "      <td>0</td>\n",
       "      <td>Transient</td>\n",
       "      <td>164.0</td>\n",
       "      <td>0</td>\n",
       "      <td>0</td>\n",
       "      <td>Canceled</td>\n",
       "      <td>2015-07-06</td>\n",
       "      <td>Krista Christensen</td>\n",
       "      <td>KristaChristensen@xfinity.com</td>\n",
       "      <td>222-243-1300</td>\n",
       "      <td>************6726</td>\n",
       "    </tr>\n",
       "    <tr>\n",
       "      <th>70407</th>\n",
       "      <td>City Hotel</td>\n",
       "      <td>1</td>\n",
       "      <td>157</td>\n",
       "      <td>2017</td>\n",
       "      <td>June</td>\n",
       "      <td>24</td>\n",
       "      <td>16</td>\n",
       "      <td>1</td>\n",
       "      <td>2</td>\n",
       "      <td>3</td>\n",
       "      <td>0.0</td>\n",
       "      <td>0</td>\n",
       "      <td>BB</td>\n",
       "      <td>IRL</td>\n",
       "      <td>Online TA</td>\n",
       "      <td>TA/TO</td>\n",
       "      <td>0</td>\n",
       "      <td>0</td>\n",
       "      <td>0</td>\n",
       "      <td>D</td>\n",
       "      <td>D</td>\n",
       "      <td>0</td>\n",
       "      <td>No Deposit</td>\n",
       "      <td>9.0</td>\n",
       "      <td>NaN</td>\n",
       "      <td>0</td>\n",
       "      <td>Transient</td>\n",
       "      <td>166.5</td>\n",
       "      <td>0</td>\n",
       "      <td>0</td>\n",
       "      <td>Canceled</td>\n",
       "      <td>2017-01-11</td>\n",
       "      <td>Alicia Ramirez</td>\n",
       "      <td>ARamirez@yandex.com</td>\n",
       "      <td>759-782-7786</td>\n",
       "      <td>************7019</td>\n",
       "    </tr>\n",
       "    <tr>\n",
       "      <th>11842</th>\n",
       "      <td>Resort Hotel</td>\n",
       "      <td>1</td>\n",
       "      <td>104</td>\n",
       "      <td>2017</td>\n",
       "      <td>June</td>\n",
       "      <td>22</td>\n",
       "      <td>1</td>\n",
       "      <td>2</td>\n",
       "      <td>3</td>\n",
       "      <td>2</td>\n",
       "      <td>0.0</td>\n",
       "      <td>0</td>\n",
       "      <td>BB</td>\n",
       "      <td>PRT</td>\n",
       "      <td>Direct</td>\n",
       "      <td>Direct</td>\n",
       "      <td>0</td>\n",
       "      <td>0</td>\n",
       "      <td>0</td>\n",
       "      <td>E</td>\n",
       "      <td>E</td>\n",
       "      <td>0</td>\n",
       "      <td>No Deposit</td>\n",
       "      <td>NaN</td>\n",
       "      <td>NaN</td>\n",
       "      <td>0</td>\n",
       "      <td>Transient</td>\n",
       "      <td>121.5</td>\n",
       "      <td>0</td>\n",
       "      <td>0</td>\n",
       "      <td>Canceled</td>\n",
       "      <td>2017-03-08</td>\n",
       "      <td>Heather Ray</td>\n",
       "      <td>HRay22@zoho.com</td>\n",
       "      <td>255-263-4121</td>\n",
       "      <td>************4858</td>\n",
       "    </tr>\n",
       "  </tbody>\n",
       "</table>\n",
       "</div>"
      ],
      "text/plain": [
       "              hotel  is_canceled  lead_time  arrival_date_year  \\\n",
       "750    Resort Hotel            1         34               2015   \n",
       "70407    City Hotel            1        157               2017   \n",
       "11842  Resort Hotel            1        104               2017   \n",
       "\n",
       "      arrival_date_month  arrival_date_week_number  arrival_date_day_of_month  \\\n",
       "750                 July                        31                         27   \n",
       "70407               June                        24                         16   \n",
       "11842               June                        22                          1   \n",
       "\n",
       "       stays_in_weekend_nights  stays_in_week_nights  adults  children  \\\n",
       "750                          1                     4       2       0.0   \n",
       "70407                        1                     2       3       0.0   \n",
       "11842                        2                     3       2       0.0   \n",
       "\n",
       "       babies meal country market_segment distribution_channel  \\\n",
       "750         0   HB     PRT      Online TA                TA/TO   \n",
       "70407       0   BB     IRL      Online TA                TA/TO   \n",
       "11842       0   BB     PRT         Direct               Direct   \n",
       "\n",
       "       is_repeated_guest  previous_cancellations  \\\n",
       "750                    0                       0   \n",
       "70407                  0                       0   \n",
       "11842                  0                       0   \n",
       "\n",
       "       previous_bookings_not_canceled reserved_room_type assigned_room_type  \\\n",
       "750                                 0                  A                  A   \n",
       "70407                               0                  D                  D   \n",
       "11842                               0                  E                  E   \n",
       "\n",
       "       booking_changes deposit_type  agent  company  days_in_waiting_list  \\\n",
       "750                  0   No Deposit  240.0      NaN                     0   \n",
       "70407                0   No Deposit    9.0      NaN                     0   \n",
       "11842                0   No Deposit    NaN      NaN                     0   \n",
       "\n",
       "      customer_type    adr  required_car_parking_spaces  \\\n",
       "750       Transient  164.0                            0   \n",
       "70407     Transient  166.5                            0   \n",
       "11842     Transient  121.5                            0   \n",
       "\n",
       "       total_of_special_requests reservation_status reservation_status_date  \\\n",
       "750                            0           Canceled              2015-07-06   \n",
       "70407                          0           Canceled              2017-01-11   \n",
       "11842                          0           Canceled              2017-03-08   \n",
       "\n",
       "                     name                          email  phone-number  \\\n",
       "750    Krista Christensen  KristaChristensen@xfinity.com  222-243-1300   \n",
       "70407      Alicia Ramirez            ARamirez@yandex.com  759-782-7786   \n",
       "11842         Heather Ray                HRay22@zoho.com  255-263-4121   \n",
       "\n",
       "            credit_card  \n",
       "750    ************6726  \n",
       "70407  ************7019  \n",
       "11842  ************4858  "
      ]
     },
     "execution_count": 7,
     "metadata": {},
     "output_type": "execute_result"
    }
   ],
   "source": [
    "hotel_booking.sample(3)"
   ]
  },
  {
   "cell_type": "code",
   "execution_count": 8,
   "id": "449d1702",
   "metadata": {},
   "outputs": [],
   "source": [
    "# se eliminan las columnas innecesarias para el analisis\n",
    "hotel_booking = hotel_booking.drop(columns=['phone-number','email'])"
   ]
  },
  {
   "cell_type": "code",
   "execution_count": 9,
   "id": "52e1ed01",
   "metadata": {},
   "outputs": [],
   "source": [
    "# se modifican los valores a enteros\n",
    "columas = ['children', 'agent']\n",
    "\n",
    "for column in columas:\n",
    "    hotel_booking[column] = hotel_booking[column].astype(str).str.replace('.0', '', regex=False)"
   ]
  },
  {
   "cell_type": "code",
   "execution_count": 10,
   "id": "448d7629",
   "metadata": {},
   "outputs": [
    {
     "data": {
      "text/html": [
       "<div>\n",
       "<style scoped>\n",
       "    .dataframe tbody tr th:only-of-type {\n",
       "        vertical-align: middle;\n",
       "    }\n",
       "\n",
       "    .dataframe tbody tr th {\n",
       "        vertical-align: top;\n",
       "    }\n",
       "\n",
       "    .dataframe thead th {\n",
       "        text-align: right;\n",
       "    }\n",
       "</style>\n",
       "<table border=\"1\" class=\"dataframe\">\n",
       "  <thead>\n",
       "    <tr style=\"text-align: right;\">\n",
       "      <th></th>\n",
       "      <th>hotel</th>\n",
       "      <th>is_canceled</th>\n",
       "      <th>lead_time</th>\n",
       "      <th>arrival_date_year</th>\n",
       "      <th>arrival_date_month</th>\n",
       "      <th>arrival_date_week_number</th>\n",
       "      <th>arrival_date_day_of_month</th>\n",
       "      <th>stays_in_weekend_nights</th>\n",
       "      <th>stays_in_week_nights</th>\n",
       "      <th>adults</th>\n",
       "      <th>children</th>\n",
       "      <th>babies</th>\n",
       "      <th>meal</th>\n",
       "      <th>country</th>\n",
       "      <th>market_segment</th>\n",
       "      <th>distribution_channel</th>\n",
       "      <th>is_repeated_guest</th>\n",
       "      <th>previous_cancellations</th>\n",
       "      <th>previous_bookings_not_canceled</th>\n",
       "      <th>reserved_room_type</th>\n",
       "      <th>assigned_room_type</th>\n",
       "      <th>booking_changes</th>\n",
       "      <th>deposit_type</th>\n",
       "      <th>agent</th>\n",
       "      <th>company</th>\n",
       "      <th>days_in_waiting_list</th>\n",
       "      <th>customer_type</th>\n",
       "      <th>adr</th>\n",
       "      <th>required_car_parking_spaces</th>\n",
       "      <th>total_of_special_requests</th>\n",
       "      <th>reservation_status</th>\n",
       "      <th>reservation_status_date</th>\n",
       "      <th>name</th>\n",
       "      <th>credit_card</th>\n",
       "    </tr>\n",
       "  </thead>\n",
       "  <tbody>\n",
       "    <tr>\n",
       "      <th>9525</th>\n",
       "      <td>Resort Hotel</td>\n",
       "      <td>1</td>\n",
       "      <td>75</td>\n",
       "      <td>2016</td>\n",
       "      <td>December</td>\n",
       "      <td>50</td>\n",
       "      <td>6</td>\n",
       "      <td>0</td>\n",
       "      <td>5</td>\n",
       "      <td>2</td>\n",
       "      <td>0</td>\n",
       "      <td>0</td>\n",
       "      <td>BB</td>\n",
       "      <td>USA</td>\n",
       "      <td>Online TA</td>\n",
       "      <td>TA/TO</td>\n",
       "      <td>0</td>\n",
       "      <td>0</td>\n",
       "      <td>0</td>\n",
       "      <td>A</td>\n",
       "      <td>A</td>\n",
       "      <td>0</td>\n",
       "      <td>No Deposit</td>\n",
       "      <td>240</td>\n",
       "      <td>NaN</td>\n",
       "      <td>0</td>\n",
       "      <td>Transient</td>\n",
       "      <td>37.8</td>\n",
       "      <td>0</td>\n",
       "      <td>0</td>\n",
       "      <td>No-Show</td>\n",
       "      <td>2016-12-06</td>\n",
       "      <td>Chad Wheeler</td>\n",
       "      <td>************3692</td>\n",
       "    </tr>\n",
       "    <tr>\n",
       "      <th>79834</th>\n",
       "      <td>City Hotel</td>\n",
       "      <td>1</td>\n",
       "      <td>34</td>\n",
       "      <td>2015</td>\n",
       "      <td>December</td>\n",
       "      <td>50</td>\n",
       "      <td>8</td>\n",
       "      <td>0</td>\n",
       "      <td>2</td>\n",
       "      <td>1</td>\n",
       "      <td>0</td>\n",
       "      <td>0</td>\n",
       "      <td>BB</td>\n",
       "      <td>PRT</td>\n",
       "      <td>Offline TA/TO</td>\n",
       "      <td>TA/TO</td>\n",
       "      <td>0</td>\n",
       "      <td>1</td>\n",
       "      <td>0</td>\n",
       "      <td>A</td>\n",
       "      <td>A</td>\n",
       "      <td>0</td>\n",
       "      <td>Non Refund</td>\n",
       "      <td>19</td>\n",
       "      <td>NaN</td>\n",
       "      <td>0</td>\n",
       "      <td>Transient</td>\n",
       "      <td>90.0</td>\n",
       "      <td>0</td>\n",
       "      <td>0</td>\n",
       "      <td>Canceled</td>\n",
       "      <td>2015-11-06</td>\n",
       "      <td>Jasmine Byrd</td>\n",
       "      <td>************7311</td>\n",
       "    </tr>\n",
       "    <tr>\n",
       "      <th>57726</th>\n",
       "      <td>City Hotel</td>\n",
       "      <td>1</td>\n",
       "      <td>315</td>\n",
       "      <td>2016</td>\n",
       "      <td>September</td>\n",
       "      <td>40</td>\n",
       "      <td>30</td>\n",
       "      <td>1</td>\n",
       "      <td>2</td>\n",
       "      <td>2</td>\n",
       "      <td>0</td>\n",
       "      <td>0</td>\n",
       "      <td>HB</td>\n",
       "      <td>PRT</td>\n",
       "      <td>Offline TA/TO</td>\n",
       "      <td>TA/TO</td>\n",
       "      <td>0</td>\n",
       "      <td>0</td>\n",
       "      <td>0</td>\n",
       "      <td>A</td>\n",
       "      <td>A</td>\n",
       "      <td>0</td>\n",
       "      <td>Non Refund</td>\n",
       "      <td>31</td>\n",
       "      <td>NaN</td>\n",
       "      <td>69</td>\n",
       "      <td>Transient</td>\n",
       "      <td>160.0</td>\n",
       "      <td>0</td>\n",
       "      <td>0</td>\n",
       "      <td>Canceled</td>\n",
       "      <td>2016-01-28</td>\n",
       "      <td>Christopher Jefferson</td>\n",
       "      <td>************9999</td>\n",
       "    </tr>\n",
       "  </tbody>\n",
       "</table>\n",
       "</div>"
      ],
      "text/plain": [
       "              hotel  is_canceled  lead_time  arrival_date_year  \\\n",
       "9525   Resort Hotel            1         75               2016   \n",
       "79834    City Hotel            1         34               2015   \n",
       "57726    City Hotel            1        315               2016   \n",
       "\n",
       "      arrival_date_month  arrival_date_week_number  arrival_date_day_of_month  \\\n",
       "9525            December                        50                          6   \n",
       "79834           December                        50                          8   \n",
       "57726          September                        40                         30   \n",
       "\n",
       "       stays_in_weekend_nights  stays_in_week_nights  adults children  babies  \\\n",
       "9525                         0                     5       2        0       0   \n",
       "79834                        0                     2       1        0       0   \n",
       "57726                        1                     2       2        0       0   \n",
       "\n",
       "      meal country market_segment distribution_channel  is_repeated_guest  \\\n",
       "9525    BB     USA      Online TA                TA/TO                  0   \n",
       "79834   BB     PRT  Offline TA/TO                TA/TO                  0   \n",
       "57726   HB     PRT  Offline TA/TO                TA/TO                  0   \n",
       "\n",
       "       previous_cancellations  previous_bookings_not_canceled  \\\n",
       "9525                        0                               0   \n",
       "79834                       1                               0   \n",
       "57726                       0                               0   \n",
       "\n",
       "      reserved_room_type assigned_room_type  booking_changes deposit_type  \\\n",
       "9525                   A                  A                0   No Deposit   \n",
       "79834                  A                  A                0   Non Refund   \n",
       "57726                  A                  A                0   Non Refund   \n",
       "\n",
       "      agent  company  days_in_waiting_list customer_type    adr  \\\n",
       "9525    240      NaN                     0     Transient   37.8   \n",
       "79834    19      NaN                     0     Transient   90.0   \n",
       "57726    31      NaN                    69     Transient  160.0   \n",
       "\n",
       "       required_car_parking_spaces  total_of_special_requests  \\\n",
       "9525                             0                          0   \n",
       "79834                            0                          0   \n",
       "57726                            0                          0   \n",
       "\n",
       "      reservation_status reservation_status_date                   name  \\\n",
       "9525             No-Show              2016-12-06           Chad Wheeler   \n",
       "79834           Canceled              2015-11-06           Jasmine Byrd   \n",
       "57726           Canceled              2016-01-28  Christopher Jefferson   \n",
       "\n",
       "            credit_card  \n",
       "9525   ************3692  \n",
       "79834  ************7311  \n",
       "57726  ************9999  "
      ]
     },
     "execution_count": 10,
     "metadata": {},
     "output_type": "execute_result"
    }
   ],
   "source": [
    "hotel_booking.sample(3)"
   ]
  },
  {
   "cell_type": "markdown",
   "id": "735abf7e",
   "metadata": {},
   "source": [
    "#### Exploracion de variables\n"
   ]
  },
  {
   "cell_type": "code",
   "execution_count": 11,
   "id": "a8332fef",
   "metadata": {},
   "outputs": [
    {
     "name": "stdout",
     "output_type": "stream",
     "text": [
      "['Resort Hotel' 'City Hotel']\n"
     ]
    }
   ],
   "source": [
    "# Se visualiza la variable hotel\n",
    "hotel = hotel_booking['hotel'].unique()\n",
    "print(hotel)"
   ]
  },
  {
   "cell_type": "code",
   "execution_count": 12,
   "id": "f7f1eaad",
   "metadata": {},
   "outputs": [
    {
     "name": "stdout",
     "output_type": "stream",
     "text": [
      "[0 1]\n"
     ]
    }
   ],
   "source": [
    "# Se visualiza la variable is_canceled\n",
    "cancelado = hotel_booking['is_canceled'].unique()\n",
    "print(cancelado)"
   ]
  },
  {
   "cell_type": "code",
   "execution_count": 13,
   "id": "70f4c9d4",
   "metadata": {},
   "outputs": [
    {
     "name": "stdout",
     "output_type": "stream",
     "text": [
      "[2015 2016 2017]\n"
     ]
    }
   ],
   "source": [
    "# Se visualiza la variable arrival_date_year\n",
    "year = hotel_booking['arrival_date_year'].unique()\n",
    "print(year)"
   ]
  },
  {
   "cell_type": "code",
   "execution_count": 14,
   "id": "d13a5535",
   "metadata": {},
   "outputs": [
    {
     "name": "stdout",
     "output_type": "stream",
     "text": [
      "[ 2  1  3  4 40 26 50 27 55  0 20  6  5 10]\n"
     ]
    }
   ],
   "source": [
    "# Se visualiza la variable\n",
    "adults = hotel_booking['adults'].unique()\n",
    "print(adults)"
   ]
  },
  {
   "cell_type": "code",
   "execution_count": 15,
   "id": "78d24e71",
   "metadata": {},
   "outputs": [
    {
     "name": "stdout",
     "output_type": "stream",
     "text": [
      "['0' '1' '2' '10' '3' 'nan']\n"
     ]
    }
   ],
   "source": [
    "# Se visualiza la variable children\n",
    "children = hotel_booking['children'].unique()\n",
    "print(children)"
   ]
  },
  {
   "cell_type": "code",
   "execution_count": 16,
   "id": "f4d2d216",
   "metadata": {},
   "outputs": [
    {
     "name": "stdout",
     "output_type": "stream",
     "text": [
      "[ 0  1  2 10  9]\n"
     ]
    }
   ],
   "source": [
    "# Se visualiza la variable babies\n",
    "babies = hotel_booking['babies'].unique()\n",
    "print(babies)"
   ]
  },
  {
   "cell_type": "code",
   "execution_count": 17,
   "id": "ca48905e",
   "metadata": {},
   "outputs": [
    {
     "name": "stdout",
     "output_type": "stream",
     "text": [
      "['PRT' 'GBR' 'USA' 'ESP' 'IRL' 'FRA' nan 'ROU' 'NOR' 'OMN' 'ARG' 'POL'\n",
      " 'DEU' 'BEL' 'CHE' 'CN' 'GRC' 'ITA' 'NLD' 'DNK' 'RUS' 'SWE' 'AUS' 'EST'\n",
      " 'CZE' 'BRA' 'FIN' 'MOZ' 'BWA' 'LUX' 'SVN' 'ALB' 'IND' 'CHN' 'MEX' 'MAR'\n",
      " 'UKR' 'SMR' 'LVA' 'PRI' 'SRB' 'CHL' 'AUT' 'BLR' 'LTU' 'TUR' 'ZAF' 'AGO'\n",
      " 'ISR' 'CYM' 'ZMB' 'CPV' 'ZWE' 'DZA' 'KOR' 'CRI' 'HUN' 'ARE' 'TUN' 'JAM'\n",
      " 'HRV' 'HKG' 'IRN' 'GEO' 'AND' 'GIB' 'URY' 'JEY' 'CAF' 'CYP' 'COL' 'GGY'\n",
      " 'KWT' 'NGA' 'MDV' 'VEN' 'SVK' 'FJI' 'KAZ' 'PAK' 'IDN' 'LBN' 'PHL' 'SEN'\n",
      " 'SYC' 'AZE' 'BHR' 'NZL' 'THA' 'DOM' 'MKD' 'MYS' 'ARM' 'JPN' 'LKA' 'CUB'\n",
      " 'CMR' 'BIH' 'MUS' 'COM' 'SUR' 'UGA' 'BGR' 'CIV' 'JOR' 'SYR' 'SGP' 'BDI'\n",
      " 'SAU' 'VNM' 'PLW' 'QAT' 'EGY' 'PER' 'MLT' 'MWI' 'ECU' 'MDG' 'ISL' 'UZB'\n",
      " 'NPL' 'BHS' 'MAC' 'TGO' 'TWN' 'DJI' 'STP' 'KNA' 'ETH' 'IRQ' 'HND' 'RWA'\n",
      " 'KHM' 'MCO' 'BGD' 'IMN' 'TJK' 'NIC' 'BEN' 'VGB' 'TZA' 'GAB' 'GHA' 'TMP'\n",
      " 'GLP' 'KEN' 'LIE' 'GNB' 'MNE' 'UMI' 'MYT' 'FRO' 'MMR' 'PAN' 'BFA' 'LBY'\n",
      " 'MLI' 'NAM' 'BOL' 'PRY' 'BRB' 'ABW' 'AIA' 'SLV' 'DMA' 'PYF' 'GUY' 'LCA'\n",
      " 'ATA' 'GTM' 'ASM' 'MRT' 'NCL' 'KIR' 'SDN' 'ATF' 'SLE' 'LAO']\n"
     ]
    }
   ],
   "source": [
    "# Se visualiza la variable country\n",
    "country = hotel_booking['country'].unique()\n",
    "print(country)"
   ]
  },
  {
   "cell_type": "code",
   "execution_count": 18,
   "id": "97d0f4a2",
   "metadata": {},
   "outputs": [
    {
     "name": "stdout",
     "output_type": "stream",
     "text": [
      "['Direct' 'Corporate' 'Online TA' 'Offline TA/TO' 'Complementary' 'Groups'\n",
      " 'Undefined' 'Aviation']\n"
     ]
    }
   ],
   "source": [
    "# Se visualiza la variable market_segment\n",
    "market_segment = hotel_booking['market_segment'].unique()\n",
    "print(market_segment)"
   ]
  },
  {
   "cell_type": "code",
   "execution_count": 19,
   "id": "732a7264",
   "metadata": {},
   "outputs": [
    {
     "name": "stdout",
     "output_type": "stream",
     "text": [
      "['Direct' 'Corporate' 'TA/TO' 'Undefined' 'GDS']\n"
     ]
    }
   ],
   "source": [
    "# Se visualiza la variable distribution_channel\n",
    "distribution_channel = hotel_booking['distribution_channel'].unique()\n",
    "print(distribution_channel)"
   ]
  },
  {
   "cell_type": "code",
   "execution_count": 20,
   "id": "fa25b36b",
   "metadata": {},
   "outputs": [
    {
     "name": "stdout",
     "output_type": "stream",
     "text": [
      "['nan' '304' '240' '303' '15' '241' '8' '250' '115' '5' '175' '134' '156'\n",
      " '243' '242' '3' '105' '40' '147' '306' '184' '96' '2' '127' '95' '146'\n",
      " '9' '177' '6' '143' '244' '149' '167' '300' '171' '305' '67' '196' '152'\n",
      " '142' '261' '104' '36' '26' '29' '258' '110' '71' '181' '88' '251' '275'\n",
      " '69' '248' '208' '256' '314' '126' '281' '273' '253' '185' '330' '334'\n",
      " '328' '326' '321' '324' '313' '38' '155' '68' '335' '308' '332' '94'\n",
      " '348' '310' '339' '375' '66' '327' '387' '298' '91' '245' '385' '257'\n",
      " '393' '168' '405' '249' '315' '75' '128' '307' '11' '436' '1' '201' '183'\n",
      " '223' '368' '336' '291' '464' '411' '481' '10' '154' '468' '410' '390'\n",
      " '440' '495' '492' '493' '434' '57' '531' '420' '483' '526' '472' '429'\n",
      " '16' '446' '34' '78' '139' '252' '270' '47' '114' '301' '193' '182' '135'\n",
      " '350' '195' '352' '355' '159' '363' '384' '360' '331' '367' '64' '406'\n",
      " '163' '414' '333' '427' '431' '430' '426' '438' '433' '418' '441' '282'\n",
      " '432' '72' '450' '180' '454' '455' '59' '451' '254' '358' '469' '165'\n",
      " '467' '510' '337' '476' '502' '527' '479' '508' '535' '302' '497' '187'\n",
      " '13' '7' '27' '14' '22' '17' '28' '42' '20' '19' '45' '37' '61' '39' '21'\n",
      " '24' '41' '50' '30' '54' '52' '12' '44' '31' '83' '32' '63' '60' '55'\n",
      " '56' '89' '87' '118' '86' '85' '210' '214' '129' '179' '138' '174' '170'\n",
      " '153' '93' '151' '119' '35' '173' '58' '53' '133' '79' '235' '192' '191'\n",
      " '236' '162' '215' '157' '287' '132' '234' '98' '77' '103' '107' '262'\n",
      " '220' '121' '205' '378' '23' '296' '290' '229' '33' '286' '276' '425'\n",
      " '484' '323' '403' '219' '394' '509' '111' '423' '4' '70' '82' '81' '74'\n",
      " '92' '99' '90' '112' '117' '106' '148' '158' '144' '211' '213' '216'\n",
      " '232' '150' '267' '227' '247' '278' '280' '285' '289' '269' '295' '265'\n",
      " '288' '122' '294' '325' '341' '344' '346' '359' '283' '364' '370' '371'\n",
      " '25' '141' '391' '397' '416' '404' '299' '197' '73' '354' '444' '408'\n",
      " '461' '388' '453' '459' '474' '475' '480' '449']\n"
     ]
    }
   ],
   "source": [
    "# Se visualiza la variable agent\n",
    "agent = hotel_booking['agent'].unique()\n",
    "print(agent)"
   ]
  },
  {
   "cell_type": "code",
   "execution_count": 21,
   "id": "1a1303cb",
   "metadata": {},
   "outputs": [
    {
     "name": "stdout",
     "output_type": "stream",
     "text": [
      "['Transient' 'Contract' 'Transient-Party' 'Group']\n"
     ]
    }
   ],
   "source": [
    "# Se visualiza la variable customer_type\n",
    "customer_type = hotel_booking['customer_type'].unique()\n",
    "print(customer_type)"
   ]
  },
  {
   "cell_type": "code",
   "execution_count": 22,
   "id": "44c34cfd",
   "metadata": {},
   "outputs": [
    {
     "name": "stdout",
     "output_type": "stream",
     "text": [
      "['Check-Out' 'Canceled' 'No-Show']\n"
     ]
    }
   ],
   "source": [
    "# Se visualiza la variable reservation_status\n",
    "reservation_status = hotel_booking['reservation_status'].unique()\n",
    "print(reservation_status)"
   ]
  }
 ],
 "metadata": {
  "kernelspec": {
   "display_name": "Python 3 (ipykernel)",
   "language": "python",
   "name": "python3"
  },
  "language_info": {
   "codemirror_mode": {
    "name": "ipython",
    "version": 3
   },
   "file_extension": ".py",
   "mimetype": "text/x-python",
   "name": "python",
   "nbconvert_exporter": "python",
   "pygments_lexer": "ipython3",
   "version": "3.10.9"
  }
 },
 "nbformat": 4,
 "nbformat_minor": 5
}

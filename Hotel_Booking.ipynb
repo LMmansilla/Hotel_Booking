{
 "cells": [
  {
   "cell_type": "markdown",
   "id": "72c86cbd",
   "metadata": {},
   "source": [
    "### Preyecto Hotel Booking - Análisis y Predicción de Cancelaciones \n",
    "\n",
    "#### Introducción:\n",
    "\n",
    "El sector hotelero es uno de los pilares fundamentales de la industria turística. Con el crecimiento constante de la industria, la gestión eficiente de los hoteles se vuelve cada vez más crucial. En este contexto, el análisis de datos se ha convertido en una herramienta invaluable para comprender mejor las tendencias, los patrones y los factores que afectan el desempeño y la operación de los hoteles. En este estudio, se analizará el conjunto de datos de reservas de hotel para extraer información significativa que pueda ayudar a mejorar la gestión y minimizar cancelaciones para evitar perdidas de rentabilidad. \n",
    "\n",
    "#### Objetivo:\n",
    "\n",
    "Generar un modelo de clasificación para intentar predecir las cancelaciones en base a diversas variables. \n",
    "\n",
    "#### Aspectos a estudiar:\n",
    "\n",
    "- La cantidad de días de anticipación con la que se realiza una reserva influirá significativamente en la probabilidad de cancelación de la reserva.\n",
    "- El tipo de deposito requerido afectará la propensión a cancelar una reserva, siendo las reservas sin depósito más propensas a cancelarse.\n",
    "- El tipo de cliente puede tener una relación con la frecuencia de cancelaciones, siendo los clientes corporativos menos propensos a cancelar que los clientes transientes.\n",
    "- La disponibilidad de estacionamiento puede influir en la decisión de cancelar una reserva, especialmente para huéspedes que viajan en automóvil.\n",
    "- El número total de solicitudes especiales puede estar correlacionado con la satisfacción del cliente y, por lo tanto, con la probabilidad de cancelación de la reserva.\n",
    "\n",
    "Fuente: https://www.kaggle.com/datasets/mojtaba142/hotel-booking"
   ]
  },
  {
   "cell_type": "markdown",
   "id": "71ac8312",
   "metadata": {},
   "source": [
    "#### Nombre y definición de variables\n",
    "\n",
    "- **hotel**: El nombre del hotel.\n",
    "- **is_canceled**: Indica si la reserva fue cancelada (1) o no (0).\n",
    "- **lead_time**: El número de días que pasaron desde la fecha de reserva hasta la fecha de llegada.\n",
    "- **arrival_date_year**: El año de llegada.\n",
    "- **arrival_date_month**: El mes de llegada.\n",
    "- **arrival_date_week_number**: El número de semana del año en que llegaron los huéspedes.\n",
    "- **arrival_date_day_of_month**: El día del mes de llegada.\n",
    "- **stays_in_weekend_nights**: El número de noches que el cliente se quedó durante los fines de semana.\n",
    "- **stays_in_week_nights**: El número de noches que el cliente se quedó durante la semana.\n",
    "- **adults**: El número de adultos en la reserva.\n",
    "- **children**: El número de niños en la reserva.\n",
    "- **babies**: El número de bebés en la reserva.\n",
    "- **meal**: El tipo de comida reservada.\n",
    "- **country**: El país de origen del cliente.\n",
    "- **market_segment**: El segmento de mercado al que pertenece la reserva.\n",
    "- **distribution_channel**: El canal de distribución utilizado para realizar la reserva.\n",
    "- **is_repeated_guest**: Indica si el cliente es un huésped repetido (1) o no (0).\n",
    "- **previous_cancellations**: El número de reservas canceladas por el cliente previamente.\n",
    "- **previous_bookings_not_canceled**: El número de reservas previas que no fueron canceladas por el cliente.\n",
    "- **reserved_room_type**: El tipo de habitación reservada.\n",
    "- **assigned_room_type**: El tipo de habitación asignada al cliente.\n",
    "- **booking_changes**: El número de cambios realizados en la reserva desde su creación hasta el check-in o cancelación.\n",
    "- **deposit_type**: El tipo de depósito realizado para la reserva.\n",
    "- **agent**: El ID del agente que realizó la reserva.\n",
    "- **company**: El ID de la compañía que realizó la reserva.\n",
    "- **days_in_waiting_list**: El número de días que la reserva estuvo en la lista de espera antes de ser confirmada.\n",
    "- **customer_type**: El tipo de cliente (por ejemplo, contractual, grupo, transitorios, etc.).\n",
    "- **adr**: Tasa diaria promedio, indica el precio medio de una habitación por noche.\n",
    "- **required_car_parking_spaces**: El número de plazas de aparcamiento requeridas por el cliente.\n",
    "- **total_of_special_requests**: El número total de peticiones especiales realizadas por el cliente.\n",
    "- **reservation_status**: El estado de la reserva (por ejemplo, Confirmado, Cancelado, etc.).\n",
    "- **reservation_status_date**: La fecha en que se actualizó el estado de la reserva.\n",
    "- **credit_card?**: Indica si se utilizó una tarjeta de crédito para realizar la reserva."
   ]
  },
  {
   "cell_type": "code",
   "execution_count": 1,
   "id": "b0a15379",
   "metadata": {},
   "outputs": [],
   "source": [
    "import pandas as pd\n",
    "import matplotlib.pyplot as plt\n",
    "import seaborn as sns"
   ]
  },
  {
   "cell_type": "code",
   "execution_count": 2,
   "id": "c3bc67d3",
   "metadata": {},
   "outputs": [],
   "source": [
    "# Configuraraciones\n",
    "pd.set_option('display.max_columns', None)"
   ]
  },
  {
   "cell_type": "code",
   "execution_count": 3,
   "id": "09a4e0f1",
   "metadata": {},
   "outputs": [],
   "source": [
    "# Se carga el Dataset\n",
    "data_hotel_booking = pd.read_csv('../data/hotel_booking.csv')"
   ]
  },
  {
   "cell_type": "code",
   "execution_count": 4,
   "id": "e0452765",
   "metadata": {},
   "outputs": [],
   "source": [
    "hotel_booking = data_hotel_booking"
   ]
  },
  {
   "cell_type": "code",
   "execution_count": 5,
   "id": "393d5f62",
   "metadata": {},
   "outputs": [
    {
     "data": {
      "text/plain": [
       "(119390, 36)"
      ]
     },
     "execution_count": 5,
     "metadata": {},
     "output_type": "execute_result"
    }
   ],
   "source": [
    "hotel_booking.shape"
   ]
  },
  {
   "cell_type": "code",
   "execution_count": 6,
   "id": "6c79a45f",
   "metadata": {},
   "outputs": [
    {
     "name": "stdout",
     "output_type": "stream",
     "text": [
      "['hotel', 'is_canceled', 'lead_time', 'arrival_date_year', 'arrival_date_month', 'arrival_date_week_number', 'arrival_date_day_of_month', 'stays_in_weekend_nights', 'stays_in_week_nights', 'adults', 'children', 'babies', 'meal', 'country', 'market_segment', 'distribution_channel', 'is_repeated_guest', 'previous_cancellations', 'previous_bookings_not_canceled', 'reserved_room_type', 'assigned_room_type', 'booking_changes', 'deposit_type', 'agent', 'company', 'days_in_waiting_list', 'customer_type', 'adr', 'required_car_parking_spaces', 'total_of_special_requests', 'reservation_status', 'reservation_status_date', 'name', 'email', 'phone-number', 'credit_card']\n"
     ]
    }
   ],
   "source": [
    "# variables del dataset\n",
    "lista_variables = hotel_booking.columns.tolist()\n",
    "print(lista_variables)  "
   ]
  },
  {
   "cell_type": "code",
   "execution_count": 7,
   "id": "2b14a0dc",
   "metadata": {},
   "outputs": [
    {
     "data": {
      "text/html": [
       "<div>\n",
       "<style scoped>\n",
       "    .dataframe tbody tr th:only-of-type {\n",
       "        vertical-align: middle;\n",
       "    }\n",
       "\n",
       "    .dataframe tbody tr th {\n",
       "        vertical-align: top;\n",
       "    }\n",
       "\n",
       "    .dataframe thead th {\n",
       "        text-align: right;\n",
       "    }\n",
       "</style>\n",
       "<table border=\"1\" class=\"dataframe\">\n",
       "  <thead>\n",
       "    <tr style=\"text-align: right;\">\n",
       "      <th></th>\n",
       "      <th>hotel</th>\n",
       "      <th>is_canceled</th>\n",
       "      <th>lead_time</th>\n",
       "      <th>arrival_date_year</th>\n",
       "      <th>arrival_date_month</th>\n",
       "      <th>arrival_date_week_number</th>\n",
       "      <th>arrival_date_day_of_month</th>\n",
       "      <th>stays_in_weekend_nights</th>\n",
       "      <th>stays_in_week_nights</th>\n",
       "      <th>adults</th>\n",
       "      <th>children</th>\n",
       "      <th>babies</th>\n",
       "      <th>meal</th>\n",
       "      <th>country</th>\n",
       "      <th>market_segment</th>\n",
       "      <th>distribution_channel</th>\n",
       "      <th>is_repeated_guest</th>\n",
       "      <th>previous_cancellations</th>\n",
       "      <th>previous_bookings_not_canceled</th>\n",
       "      <th>reserved_room_type</th>\n",
       "      <th>assigned_room_type</th>\n",
       "      <th>booking_changes</th>\n",
       "      <th>deposit_type</th>\n",
       "      <th>agent</th>\n",
       "      <th>company</th>\n",
       "      <th>days_in_waiting_list</th>\n",
       "      <th>customer_type</th>\n",
       "      <th>adr</th>\n",
       "      <th>required_car_parking_spaces</th>\n",
       "      <th>total_of_special_requests</th>\n",
       "      <th>reservation_status</th>\n",
       "      <th>reservation_status_date</th>\n",
       "      <th>name</th>\n",
       "      <th>email</th>\n",
       "      <th>phone-number</th>\n",
       "      <th>credit_card</th>\n",
       "    </tr>\n",
       "  </thead>\n",
       "  <tbody>\n",
       "    <tr>\n",
       "      <th>54872</th>\n",
       "      <td>City Hotel</td>\n",
       "      <td>1</td>\n",
       "      <td>386</td>\n",
       "      <td>2016</td>\n",
       "      <td>July</td>\n",
       "      <td>31</td>\n",
       "      <td>28</td>\n",
       "      <td>0</td>\n",
       "      <td>2</td>\n",
       "      <td>2</td>\n",
       "      <td>0.0</td>\n",
       "      <td>0</td>\n",
       "      <td>BB</td>\n",
       "      <td>PRT</td>\n",
       "      <td>Groups</td>\n",
       "      <td>TA/TO</td>\n",
       "      <td>0</td>\n",
       "      <td>0</td>\n",
       "      <td>0</td>\n",
       "      <td>A</td>\n",
       "      <td>A</td>\n",
       "      <td>0</td>\n",
       "      <td>Non Refund</td>\n",
       "      <td>1.0</td>\n",
       "      <td>NaN</td>\n",
       "      <td>0</td>\n",
       "      <td>Transient</td>\n",
       "      <td>62.0</td>\n",
       "      <td>0</td>\n",
       "      <td>0</td>\n",
       "      <td>Canceled</td>\n",
       "      <td>2015-10-21</td>\n",
       "      <td>Cheryl Powell</td>\n",
       "      <td>Cheryl.Powell@verizon.com</td>\n",
       "      <td>450-181-1778</td>\n",
       "      <td>************2370</td>\n",
       "    </tr>\n",
       "    <tr>\n",
       "      <th>32831</th>\n",
       "      <td>Resort Hotel</td>\n",
       "      <td>0</td>\n",
       "      <td>159</td>\n",
       "      <td>2017</td>\n",
       "      <td>February</td>\n",
       "      <td>5</td>\n",
       "      <td>4</td>\n",
       "      <td>2</td>\n",
       "      <td>1</td>\n",
       "      <td>2</td>\n",
       "      <td>0.0</td>\n",
       "      <td>0</td>\n",
       "      <td>BB</td>\n",
       "      <td>IRL</td>\n",
       "      <td>Online TA</td>\n",
       "      <td>TA/TO</td>\n",
       "      <td>0</td>\n",
       "      <td>0</td>\n",
       "      <td>0</td>\n",
       "      <td>A</td>\n",
       "      <td>A</td>\n",
       "      <td>0</td>\n",
       "      <td>No Deposit</td>\n",
       "      <td>240.0</td>\n",
       "      <td>NaN</td>\n",
       "      <td>0</td>\n",
       "      <td>Transient</td>\n",
       "      <td>37.8</td>\n",
       "      <td>0</td>\n",
       "      <td>3</td>\n",
       "      <td>Check-Out</td>\n",
       "      <td>2017-02-07</td>\n",
       "      <td>Keith Davis</td>\n",
       "      <td>Davis.Keith@yahoo.com</td>\n",
       "      <td>842-358-6799</td>\n",
       "      <td>************3818</td>\n",
       "    </tr>\n",
       "    <tr>\n",
       "      <th>5570</th>\n",
       "      <td>Resort Hotel</td>\n",
       "      <td>0</td>\n",
       "      <td>199</td>\n",
       "      <td>2016</td>\n",
       "      <td>May</td>\n",
       "      <td>19</td>\n",
       "      <td>2</td>\n",
       "      <td>1</td>\n",
       "      <td>1</td>\n",
       "      <td>1</td>\n",
       "      <td>0.0</td>\n",
       "      <td>0</td>\n",
       "      <td>HB</td>\n",
       "      <td>DEU</td>\n",
       "      <td>Groups</td>\n",
       "      <td>TA/TO</td>\n",
       "      <td>0</td>\n",
       "      <td>0</td>\n",
       "      <td>0</td>\n",
       "      <td>A</td>\n",
       "      <td>A</td>\n",
       "      <td>1</td>\n",
       "      <td>No Deposit</td>\n",
       "      <td>298.0</td>\n",
       "      <td>NaN</td>\n",
       "      <td>0</td>\n",
       "      <td>Transient-Party</td>\n",
       "      <td>54.5</td>\n",
       "      <td>0</td>\n",
       "      <td>1</td>\n",
       "      <td>Check-Out</td>\n",
       "      <td>2016-05-04</td>\n",
       "      <td>Eric Fry</td>\n",
       "      <td>EFry86@verizon.com</td>\n",
       "      <td>853-844-9905</td>\n",
       "      <td>************2451</td>\n",
       "    </tr>\n",
       "  </tbody>\n",
       "</table>\n",
       "</div>"
      ],
      "text/plain": [
       "              hotel  is_canceled  lead_time  arrival_date_year  \\\n",
       "54872    City Hotel            1        386               2016   \n",
       "32831  Resort Hotel            0        159               2017   \n",
       "5570   Resort Hotel            0        199               2016   \n",
       "\n",
       "      arrival_date_month  arrival_date_week_number  arrival_date_day_of_month  \\\n",
       "54872               July                        31                         28   \n",
       "32831           February                         5                          4   \n",
       "5570                 May                        19                          2   \n",
       "\n",
       "       stays_in_weekend_nights  stays_in_week_nights  adults  children  \\\n",
       "54872                        0                     2       2       0.0   \n",
       "32831                        2                     1       2       0.0   \n",
       "5570                         1                     1       1       0.0   \n",
       "\n",
       "       babies meal country market_segment distribution_channel  \\\n",
       "54872       0   BB     PRT         Groups                TA/TO   \n",
       "32831       0   BB     IRL      Online TA                TA/TO   \n",
       "5570        0   HB     DEU         Groups                TA/TO   \n",
       "\n",
       "       is_repeated_guest  previous_cancellations  \\\n",
       "54872                  0                       0   \n",
       "32831                  0                       0   \n",
       "5570                   0                       0   \n",
       "\n",
       "       previous_bookings_not_canceled reserved_room_type assigned_room_type  \\\n",
       "54872                               0                  A                  A   \n",
       "32831                               0                  A                  A   \n",
       "5570                                0                  A                  A   \n",
       "\n",
       "       booking_changes deposit_type  agent  company  days_in_waiting_list  \\\n",
       "54872                0   Non Refund    1.0      NaN                     0   \n",
       "32831                0   No Deposit  240.0      NaN                     0   \n",
       "5570                 1   No Deposit  298.0      NaN                     0   \n",
       "\n",
       "         customer_type   adr  required_car_parking_spaces  \\\n",
       "54872        Transient  62.0                            0   \n",
       "32831        Transient  37.8                            0   \n",
       "5570   Transient-Party  54.5                            0   \n",
       "\n",
       "       total_of_special_requests reservation_status reservation_status_date  \\\n",
       "54872                          0           Canceled              2015-10-21   \n",
       "32831                          3          Check-Out              2017-02-07   \n",
       "5570                           1          Check-Out              2016-05-04   \n",
       "\n",
       "                name                      email  phone-number  \\\n",
       "54872  Cheryl Powell  Cheryl.Powell@verizon.com  450-181-1778   \n",
       "32831    Keith Davis      Davis.Keith@yahoo.com  842-358-6799   \n",
       "5570        Eric Fry         EFry86@verizon.com  853-844-9905   \n",
       "\n",
       "            credit_card  \n",
       "54872  ************2370  \n",
       "32831  ************3818  \n",
       "5570   ************2451  "
      ]
     },
     "execution_count": 7,
     "metadata": {},
     "output_type": "execute_result"
    }
   ],
   "source": [
    "hotel_booking.sample(3)"
   ]
  },
  {
   "cell_type": "code",
   "execution_count": 8,
   "id": "a054bdf2",
   "metadata": {},
   "outputs": [
    {
     "name": "stdout",
     "output_type": "stream",
     "text": [
      "<class 'pandas.core.frame.DataFrame'>\n",
      "RangeIndex: 119390 entries, 0 to 119389\n",
      "Data columns (total 36 columns):\n",
      " #   Column                          Non-Null Count   Dtype  \n",
      "---  ------                          --------------   -----  \n",
      " 0   hotel                           119390 non-null  object \n",
      " 1   is_canceled                     119390 non-null  int64  \n",
      " 2   lead_time                       119390 non-null  int64  \n",
      " 3   arrival_date_year               119390 non-null  int64  \n",
      " 4   arrival_date_month              119390 non-null  object \n",
      " 5   arrival_date_week_number        119390 non-null  int64  \n",
      " 6   arrival_date_day_of_month       119390 non-null  int64  \n",
      " 7   stays_in_weekend_nights         119390 non-null  int64  \n",
      " 8   stays_in_week_nights            119390 non-null  int64  \n",
      " 9   adults                          119390 non-null  int64  \n",
      " 10  children                        119386 non-null  float64\n",
      " 11  babies                          119390 non-null  int64  \n",
      " 12  meal                            119390 non-null  object \n",
      " 13  country                         118902 non-null  object \n",
      " 14  market_segment                  119390 non-null  object \n",
      " 15  distribution_channel            119390 non-null  object \n",
      " 16  is_repeated_guest               119390 non-null  int64  \n",
      " 17  previous_cancellations          119390 non-null  int64  \n",
      " 18  previous_bookings_not_canceled  119390 non-null  int64  \n",
      " 19  reserved_room_type              119390 non-null  object \n",
      " 20  assigned_room_type              119390 non-null  object \n",
      " 21  booking_changes                 119390 non-null  int64  \n",
      " 22  deposit_type                    119390 non-null  object \n",
      " 23  agent                           103050 non-null  float64\n",
      " 24  company                         6797 non-null    float64\n",
      " 25  days_in_waiting_list            119390 non-null  int64  \n",
      " 26  customer_type                   119390 non-null  object \n",
      " 27  adr                             119390 non-null  float64\n",
      " 28  required_car_parking_spaces     119390 non-null  int64  \n",
      " 29  total_of_special_requests       119390 non-null  int64  \n",
      " 30  reservation_status              119390 non-null  object \n",
      " 31  reservation_status_date         119390 non-null  object \n",
      " 32  name                            119390 non-null  object \n",
      " 33  email                           119390 non-null  object \n",
      " 34  phone-number                    119390 non-null  object \n",
      " 35  credit_card                     119390 non-null  object \n",
      "dtypes: float64(4), int64(16), object(16)\n",
      "memory usage: 32.8+ MB\n",
      "None\n"
     ]
    }
   ],
   "source": [
    "print(hotel_booking.info())"
   ]
  },
  {
   "cell_type": "code",
   "execution_count": 9,
   "id": "73d0d99e",
   "metadata": {},
   "outputs": [],
   "source": [
    "transf_var_categoricas = ['is_canceled', 'is_repeated_guest']  \n",
    "\n",
    "hotel_booking[transf_var_categoricas] = hotel_booking[transf_var_categoricas].astype('category')"
   ]
  },
  {
   "cell_type": "code",
   "execution_count": 10,
   "id": "ae131422",
   "metadata": {},
   "outputs": [],
   "source": [
    "# Se crea la tabla de fecha uniendo las columnas\n",
    "hotel_booking['arrival_date'] = pd.to_datetime(hotel_booking['arrival_date_year'].astype(str) + '-' + hotel_booking['arrival_date_month'] + '-' + hotel_booking['arrival_date_day_of_month'].astype(str))"
   ]
  },
  {
   "cell_type": "code",
   "execution_count": 11,
   "id": "449d1702",
   "metadata": {},
   "outputs": [],
   "source": [
    "# se eliminan las columnas innecesarias para el analisis\n",
    "hotel_booking = hotel_booking.drop(columns=['phone-number','email', 'arrival_date_year', 'arrival_date_month', 'arrival_date_week_number', 'arrival_date_day_of_month' ])"
   ]
  },
  {
   "cell_type": "code",
   "execution_count": 12,
   "id": "52e1ed01",
   "metadata": {},
   "outputs": [],
   "source": [
    "# se modifican los valores a enteros\n",
    "columas = ['children', 'agent']\n",
    "\n",
    "for column in columas:\n",
    "    hotel_booking[column] = hotel_booking[column].astype(str).str.replace('.0', '', regex=False)"
   ]
  },
  {
   "cell_type": "code",
   "execution_count": 13,
   "id": "448d7629",
   "metadata": {},
   "outputs": [
    {
     "data": {
      "text/html": [
       "<div>\n",
       "<style scoped>\n",
       "    .dataframe tbody tr th:only-of-type {\n",
       "        vertical-align: middle;\n",
       "    }\n",
       "\n",
       "    .dataframe tbody tr th {\n",
       "        vertical-align: top;\n",
       "    }\n",
       "\n",
       "    .dataframe thead th {\n",
       "        text-align: right;\n",
       "    }\n",
       "</style>\n",
       "<table border=\"1\" class=\"dataframe\">\n",
       "  <thead>\n",
       "    <tr style=\"text-align: right;\">\n",
       "      <th></th>\n",
       "      <th>hotel</th>\n",
       "      <th>is_canceled</th>\n",
       "      <th>lead_time</th>\n",
       "      <th>stays_in_weekend_nights</th>\n",
       "      <th>stays_in_week_nights</th>\n",
       "      <th>adults</th>\n",
       "      <th>children</th>\n",
       "      <th>babies</th>\n",
       "      <th>meal</th>\n",
       "      <th>country</th>\n",
       "      <th>market_segment</th>\n",
       "      <th>distribution_channel</th>\n",
       "      <th>is_repeated_guest</th>\n",
       "      <th>previous_cancellations</th>\n",
       "      <th>previous_bookings_not_canceled</th>\n",
       "      <th>reserved_room_type</th>\n",
       "      <th>assigned_room_type</th>\n",
       "      <th>booking_changes</th>\n",
       "      <th>deposit_type</th>\n",
       "      <th>agent</th>\n",
       "      <th>company</th>\n",
       "      <th>days_in_waiting_list</th>\n",
       "      <th>customer_type</th>\n",
       "      <th>adr</th>\n",
       "      <th>required_car_parking_spaces</th>\n",
       "      <th>total_of_special_requests</th>\n",
       "      <th>reservation_status</th>\n",
       "      <th>reservation_status_date</th>\n",
       "      <th>name</th>\n",
       "      <th>credit_card</th>\n",
       "      <th>arrival_date</th>\n",
       "    </tr>\n",
       "  </thead>\n",
       "  <tbody>\n",
       "    <tr>\n",
       "      <th>12562</th>\n",
       "      <td>Resort Hotel</td>\n",
       "      <td>1</td>\n",
       "      <td>217</td>\n",
       "      <td>2</td>\n",
       "      <td>5</td>\n",
       "      <td>2</td>\n",
       "      <td>0</td>\n",
       "      <td>0</td>\n",
       "      <td>HB</td>\n",
       "      <td>ESP</td>\n",
       "      <td>Online TA</td>\n",
       "      <td>TA/TO</td>\n",
       "      <td>0</td>\n",
       "      <td>0</td>\n",
       "      <td>0</td>\n",
       "      <td>D</td>\n",
       "      <td>D</td>\n",
       "      <td>0</td>\n",
       "      <td>No Deposit</td>\n",
       "      <td>240</td>\n",
       "      <td>NaN</td>\n",
       "      <td>0</td>\n",
       "      <td>Transient</td>\n",
       "      <td>162.86</td>\n",
       "      <td>0</td>\n",
       "      <td>1</td>\n",
       "      <td>Canceled</td>\n",
       "      <td>2017-02-10</td>\n",
       "      <td>Ashley Hobbs</td>\n",
       "      <td>************4517</td>\n",
       "      <td>2017-07-04</td>\n",
       "    </tr>\n",
       "    <tr>\n",
       "      <th>50304</th>\n",
       "      <td>City Hotel</td>\n",
       "      <td>1</td>\n",
       "      <td>295</td>\n",
       "      <td>0</td>\n",
       "      <td>2</td>\n",
       "      <td>2</td>\n",
       "      <td>0</td>\n",
       "      <td>0</td>\n",
       "      <td>BB</td>\n",
       "      <td>PRT</td>\n",
       "      <td>Groups</td>\n",
       "      <td>TA/TO</td>\n",
       "      <td>0</td>\n",
       "      <td>0</td>\n",
       "      <td>0</td>\n",
       "      <td>A</td>\n",
       "      <td>A</td>\n",
       "      <td>0</td>\n",
       "      <td>Non Refund</td>\n",
       "      <td>1</td>\n",
       "      <td>NaN</td>\n",
       "      <td>0</td>\n",
       "      <td>Transient</td>\n",
       "      <td>62.00</td>\n",
       "      <td>0</td>\n",
       "      <td>0</td>\n",
       "      <td>Canceled</td>\n",
       "      <td>2015-10-21</td>\n",
       "      <td>Chad White</td>\n",
       "      <td>************7693</td>\n",
       "      <td>2016-04-28</td>\n",
       "    </tr>\n",
       "    <tr>\n",
       "      <th>31335</th>\n",
       "      <td>Resort Hotel</td>\n",
       "      <td>0</td>\n",
       "      <td>118</td>\n",
       "      <td>1</td>\n",
       "      <td>4</td>\n",
       "      <td>2</td>\n",
       "      <td>0</td>\n",
       "      <td>0</td>\n",
       "      <td>BB</td>\n",
       "      <td>CHN</td>\n",
       "      <td>Online TA</td>\n",
       "      <td>TA/TO</td>\n",
       "      <td>0</td>\n",
       "      <td>0</td>\n",
       "      <td>0</td>\n",
       "      <td>E</td>\n",
       "      <td>E</td>\n",
       "      <td>0</td>\n",
       "      <td>No Deposit</td>\n",
       "      <td>240</td>\n",
       "      <td>NaN</td>\n",
       "      <td>0</td>\n",
       "      <td>Transient-Party</td>\n",
       "      <td>55.80</td>\n",
       "      <td>0</td>\n",
       "      <td>1</td>\n",
       "      <td>Check-Out</td>\n",
       "      <td>2016-12-24</td>\n",
       "      <td>Walter Brown</td>\n",
       "      <td>************9661</td>\n",
       "      <td>2016-12-19</td>\n",
       "    </tr>\n",
       "  </tbody>\n",
       "</table>\n",
       "</div>"
      ],
      "text/plain": [
       "              hotel is_canceled  lead_time  stays_in_weekend_nights  \\\n",
       "12562  Resort Hotel           1        217                        2   \n",
       "50304    City Hotel           1        295                        0   \n",
       "31335  Resort Hotel           0        118                        1   \n",
       "\n",
       "       stays_in_week_nights  adults children  babies meal country  \\\n",
       "12562                     5       2        0       0   HB     ESP   \n",
       "50304                     2       2        0       0   BB     PRT   \n",
       "31335                     4       2        0       0   BB     CHN   \n",
       "\n",
       "      market_segment distribution_channel is_repeated_guest  \\\n",
       "12562      Online TA                TA/TO                 0   \n",
       "50304         Groups                TA/TO                 0   \n",
       "31335      Online TA                TA/TO                 0   \n",
       "\n",
       "       previous_cancellations  previous_bookings_not_canceled  \\\n",
       "12562                       0                               0   \n",
       "50304                       0                               0   \n",
       "31335                       0                               0   \n",
       "\n",
       "      reserved_room_type assigned_room_type  booking_changes deposit_type  \\\n",
       "12562                  D                  D                0   No Deposit   \n",
       "50304                  A                  A                0   Non Refund   \n",
       "31335                  E                  E                0   No Deposit   \n",
       "\n",
       "      agent  company  days_in_waiting_list    customer_type     adr  \\\n",
       "12562   240      NaN                     0        Transient  162.86   \n",
       "50304     1      NaN                     0        Transient   62.00   \n",
       "31335   240      NaN                     0  Transient-Party   55.80   \n",
       "\n",
       "       required_car_parking_spaces  total_of_special_requests  \\\n",
       "12562                            0                          1   \n",
       "50304                            0                          0   \n",
       "31335                            0                          1   \n",
       "\n",
       "      reservation_status reservation_status_date          name  \\\n",
       "12562           Canceled              2017-02-10  Ashley Hobbs   \n",
       "50304           Canceled              2015-10-21    Chad White   \n",
       "31335          Check-Out              2016-12-24  Walter Brown   \n",
       "\n",
       "            credit_card arrival_date  \n",
       "12562  ************4517   2017-07-04  \n",
       "50304  ************7693   2016-04-28  \n",
       "31335  ************9661   2016-12-19  "
      ]
     },
     "execution_count": 13,
     "metadata": {},
     "output_type": "execute_result"
    }
   ],
   "source": [
    "hotel_booking.sample(3)"
   ]
  },
  {
   "cell_type": "markdown",
   "id": "735abf7e",
   "metadata": {},
   "source": [
    "### Exploracion de variables\n"
   ]
  },
  {
   "cell_type": "code",
   "execution_count": 14,
   "id": "581e03b8",
   "metadata": {},
   "outputs": [
    {
     "name": "stdout",
     "output_type": "stream",
     "text": [
      "           lead_time  stays_in_weekend_nights  stays_in_week_nights  \\\n",
      "count  119390.000000            119390.000000         119390.000000   \n",
      "mean      104.011416                 0.927599              2.500302   \n",
      "std       106.863097                 0.998613              1.908286   \n",
      "min         0.000000                 0.000000              0.000000   \n",
      "25%        18.000000                 0.000000              1.000000   \n",
      "50%        69.000000                 1.000000              2.000000   \n",
      "75%       160.000000                 2.000000              3.000000   \n",
      "max       737.000000                19.000000             50.000000   \n",
      "\n",
      "              adults         babies  previous_cancellations  \\\n",
      "count  119390.000000  119390.000000           119390.000000   \n",
      "mean        1.856403       0.007949                0.087118   \n",
      "std         0.579261       0.097436                0.844336   \n",
      "min         0.000000       0.000000                0.000000   \n",
      "25%         2.000000       0.000000                0.000000   \n",
      "50%         2.000000       0.000000                0.000000   \n",
      "75%         2.000000       0.000000                0.000000   \n",
      "max        55.000000      10.000000               26.000000   \n",
      "\n",
      "       previous_bookings_not_canceled  booking_changes      company  \\\n",
      "count                   119390.000000    119390.000000  6797.000000   \n",
      "mean                         0.137097         0.221124   189.266735   \n",
      "std                          1.497437         0.652306   131.655015   \n",
      "min                          0.000000         0.000000     6.000000   \n",
      "25%                          0.000000         0.000000    62.000000   \n",
      "50%                          0.000000         0.000000   179.000000   \n",
      "75%                          0.000000         0.000000   270.000000   \n",
      "max                         72.000000        21.000000   543.000000   \n",
      "\n",
      "       days_in_waiting_list            adr  required_car_parking_spaces  \\\n",
      "count         119390.000000  119390.000000                119390.000000   \n",
      "mean               2.321149     101.831122                     0.062518   \n",
      "std               17.594721      50.535790                     0.245291   \n",
      "min                0.000000      -6.380000                     0.000000   \n",
      "25%                0.000000      69.290000                     0.000000   \n",
      "50%                0.000000      94.575000                     0.000000   \n",
      "75%                0.000000     126.000000                     0.000000   \n",
      "max              391.000000    5400.000000                     8.000000   \n",
      "\n",
      "       total_of_special_requests  \n",
      "count              119390.000000  \n",
      "mean                    0.571363  \n",
      "std                     0.792798  \n",
      "min                     0.000000  \n",
      "25%                     0.000000  \n",
      "50%                     0.000000  \n",
      "75%                     1.000000  \n",
      "max                     5.000000  \n"
     ]
    }
   ],
   "source": [
    "print(hotel_booking.describe())"
   ]
  },
  {
   "cell_type": "code",
   "execution_count": 15,
   "id": "b2de5c45",
   "metadata": {},
   "outputs": [
    {
     "name": "stdout",
     "output_type": "stream",
     "text": [
      "hotel                                 2\n",
      "is_canceled                           2\n",
      "lead_time                           479\n",
      "stays_in_weekend_nights              17\n",
      "stays_in_week_nights                 35\n",
      "adults                               14\n",
      "children                              6\n",
      "babies                                5\n",
      "meal                                  5\n",
      "country                             177\n",
      "market_segment                        8\n",
      "distribution_channel                  5\n",
      "is_repeated_guest                     2\n",
      "previous_cancellations               15\n",
      "previous_bookings_not_canceled       73\n",
      "reserved_room_type                   10\n",
      "assigned_room_type                   12\n",
      "booking_changes                      21\n",
      "deposit_type                          3\n",
      "agent                               334\n",
      "company                             352\n",
      "days_in_waiting_list                128\n",
      "customer_type                         4\n",
      "adr                                8879\n",
      "required_car_parking_spaces           5\n",
      "total_of_special_requests             6\n",
      "reservation_status                    3\n",
      "reservation_status_date             926\n",
      "name                              81503\n",
      "credit_card                        9000\n",
      "arrival_date                        793\n",
      "dtype: int64\n"
     ]
    }
   ],
   "source": [
    "print(hotel_booking.nunique())"
   ]
  },
  {
   "cell_type": "code",
   "execution_count": 16,
   "id": "40ece5e1",
   "metadata": {},
   "outputs": [
    {
     "name": "stdout",
     "output_type": "stream",
     "text": [
      "hotel                                  0\n",
      "is_canceled                            0\n",
      "lead_time                              0\n",
      "stays_in_weekend_nights                0\n",
      "stays_in_week_nights                   0\n",
      "adults                                 0\n",
      "children                               0\n",
      "babies                                 0\n",
      "meal                                   0\n",
      "country                              488\n",
      "market_segment                         0\n",
      "distribution_channel                   0\n",
      "is_repeated_guest                      0\n",
      "previous_cancellations                 0\n",
      "previous_bookings_not_canceled         0\n",
      "reserved_room_type                     0\n",
      "assigned_room_type                     0\n",
      "booking_changes                        0\n",
      "deposit_type                           0\n",
      "agent                                  0\n",
      "company                           112593\n",
      "days_in_waiting_list                   0\n",
      "customer_type                          0\n",
      "adr                                    0\n",
      "required_car_parking_spaces            0\n",
      "total_of_special_requests              0\n",
      "reservation_status                     0\n",
      "reservation_status_date                0\n",
      "name                                   0\n",
      "credit_card                            0\n",
      "arrival_date                           0\n",
      "dtype: int64\n"
     ]
    }
   ],
   "source": [
    "print(hotel_booking.isnull().sum())"
   ]
  },
  {
   "cell_type": "markdown",
   "id": "32c08d9b",
   "metadata": {},
   "source": [
    "#### Variables Categoricas"
   ]
  },
  {
   "cell_type": "code",
   "execution_count": 17,
   "id": "a8332fef",
   "metadata": {},
   "outputs": [
    {
     "name": "stdout",
     "output_type": "stream",
     "text": [
      "['Resort Hotel' 'City Hotel']\n"
     ]
    }
   ],
   "source": [
    "# Se visualiza la variable hotel\n",
    "hotel = hotel_booking['hotel'].unique()\n",
    "print(hotel)"
   ]
  },
  {
   "cell_type": "code",
   "execution_count": 18,
   "id": "f7f1eaad",
   "metadata": {},
   "outputs": [
    {
     "name": "stdout",
     "output_type": "stream",
     "text": [
      "[0, 1]\n",
      "Categories (2, int64): [0, 1]\n"
     ]
    }
   ],
   "source": [
    "# Se visualiza la variable is_canceled\n",
    "cancelado = hotel_booking['is_canceled'].unique()\n",
    "print(cancelado)"
   ]
  },
  {
   "cell_type": "code",
   "execution_count": 19,
   "id": "270f1ca5",
   "metadata": {},
   "outputs": [
    {
     "name": "stdout",
     "output_type": "stream",
     "text": [
      "['BB' 'FB' 'HB' 'SC' 'Undefined']\n"
     ]
    }
   ],
   "source": [
    "# Se visualiza la variable meal\n",
    "meal = hotel_booking['meal'].unique()\n",
    "print(meal)"
   ]
  },
  {
   "cell_type": "code",
   "execution_count": 20,
   "id": "d13a5535",
   "metadata": {},
   "outputs": [
    {
     "name": "stdout",
     "output_type": "stream",
     "text": [
      "[ 2  1  3  4 40 26 50 27 55  0 20  6  5 10]\n"
     ]
    }
   ],
   "source": [
    "# Se visualiza la variable\n",
    "adults = hotel_booking['adults'].unique()\n",
    "print(adults)"
   ]
  },
  {
   "cell_type": "code",
   "execution_count": 21,
   "id": "78d24e71",
   "metadata": {},
   "outputs": [
    {
     "name": "stdout",
     "output_type": "stream",
     "text": [
      "['0' '1' '2' '10' '3' 'nan']\n"
     ]
    }
   ],
   "source": [
    "# Se visualiza la variable children\n",
    "children = hotel_booking['children'].unique()\n",
    "print(children)"
   ]
  },
  {
   "cell_type": "code",
   "execution_count": 22,
   "id": "f4d2d216",
   "metadata": {},
   "outputs": [
    {
     "name": "stdout",
     "output_type": "stream",
     "text": [
      "[ 0  1  2 10  9]\n"
     ]
    }
   ],
   "source": [
    "# Se visualiza la variable babies\n",
    "babies = hotel_booking['babies'].unique()\n",
    "print(babies)"
   ]
  },
  {
   "cell_type": "code",
   "execution_count": 23,
   "id": "ca48905e",
   "metadata": {},
   "outputs": [
    {
     "name": "stdout",
     "output_type": "stream",
     "text": [
      "['PRT' 'GBR' 'USA' 'ESP' 'IRL' 'FRA' nan 'ROU' 'NOR' 'OMN' 'ARG' 'POL'\n",
      " 'DEU' 'BEL' 'CHE' 'CN' 'GRC' 'ITA' 'NLD' 'DNK' 'RUS' 'SWE' 'AUS' 'EST'\n",
      " 'CZE' 'BRA' 'FIN' 'MOZ' 'BWA' 'LUX' 'SVN' 'ALB' 'IND' 'CHN' 'MEX' 'MAR'\n",
      " 'UKR' 'SMR' 'LVA' 'PRI' 'SRB' 'CHL' 'AUT' 'BLR' 'LTU' 'TUR' 'ZAF' 'AGO'\n",
      " 'ISR' 'CYM' 'ZMB' 'CPV' 'ZWE' 'DZA' 'KOR' 'CRI' 'HUN' 'ARE' 'TUN' 'JAM'\n",
      " 'HRV' 'HKG' 'IRN' 'GEO' 'AND' 'GIB' 'URY' 'JEY' 'CAF' 'CYP' 'COL' 'GGY'\n",
      " 'KWT' 'NGA' 'MDV' 'VEN' 'SVK' 'FJI' 'KAZ' 'PAK' 'IDN' 'LBN' 'PHL' 'SEN'\n",
      " 'SYC' 'AZE' 'BHR' 'NZL' 'THA' 'DOM' 'MKD' 'MYS' 'ARM' 'JPN' 'LKA' 'CUB'\n",
      " 'CMR' 'BIH' 'MUS' 'COM' 'SUR' 'UGA' 'BGR' 'CIV' 'JOR' 'SYR' 'SGP' 'BDI'\n",
      " 'SAU' 'VNM' 'PLW' 'QAT' 'EGY' 'PER' 'MLT' 'MWI' 'ECU' 'MDG' 'ISL' 'UZB'\n",
      " 'NPL' 'BHS' 'MAC' 'TGO' 'TWN' 'DJI' 'STP' 'KNA' 'ETH' 'IRQ' 'HND' 'RWA'\n",
      " 'KHM' 'MCO' 'BGD' 'IMN' 'TJK' 'NIC' 'BEN' 'VGB' 'TZA' 'GAB' 'GHA' 'TMP'\n",
      " 'GLP' 'KEN' 'LIE' 'GNB' 'MNE' 'UMI' 'MYT' 'FRO' 'MMR' 'PAN' 'BFA' 'LBY'\n",
      " 'MLI' 'NAM' 'BOL' 'PRY' 'BRB' 'ABW' 'AIA' 'SLV' 'DMA' 'PYF' 'GUY' 'LCA'\n",
      " 'ATA' 'GTM' 'ASM' 'MRT' 'NCL' 'KIR' 'SDN' 'ATF' 'SLE' 'LAO']\n"
     ]
    }
   ],
   "source": [
    "# Se visualiza la variable country\n",
    "country = hotel_booking['country'].unique()\n",
    "print(country)"
   ]
  },
  {
   "cell_type": "code",
   "execution_count": 24,
   "id": "97d0f4a2",
   "metadata": {},
   "outputs": [
    {
     "name": "stdout",
     "output_type": "stream",
     "text": [
      "['Direct' 'Corporate' 'Online TA' 'Offline TA/TO' 'Complementary' 'Groups'\n",
      " 'Undefined' 'Aviation']\n"
     ]
    }
   ],
   "source": [
    "# Se visualiza la variable market_segment\n",
    "market_segment = hotel_booking['market_segment'].unique()\n",
    "print(market_segment)"
   ]
  },
  {
   "cell_type": "code",
   "execution_count": 25,
   "id": "732a7264",
   "metadata": {},
   "outputs": [
    {
     "name": "stdout",
     "output_type": "stream",
     "text": [
      "['Direct' 'Corporate' 'TA/TO' 'Undefined' 'GDS']\n"
     ]
    }
   ],
   "source": [
    "# Se visualiza la variable distribution_channel\n",
    "distribution_channel = hotel_booking['distribution_channel'].unique()\n",
    "print(distribution_channel)"
   ]
  },
  {
   "cell_type": "code",
   "execution_count": 26,
   "id": "fa25b36b",
   "metadata": {},
   "outputs": [
    {
     "name": "stdout",
     "output_type": "stream",
     "text": [
      "['nan' '304' '240' '303' '15' '241' '8' '250' '115' '5' '175' '134' '156'\n",
      " '243' '242' '3' '105' '40' '147' '306' '184' '96' '2' '127' '95' '146'\n",
      " '9' '177' '6' '143' '244' '149' '167' '300' '171' '305' '67' '196' '152'\n",
      " '142' '261' '104' '36' '26' '29' '258' '110' '71' '181' '88' '251' '275'\n",
      " '69' '248' '208' '256' '314' '126' '281' '273' '253' '185' '330' '334'\n",
      " '328' '326' '321' '324' '313' '38' '155' '68' '335' '308' '332' '94'\n",
      " '348' '310' '339' '375' '66' '327' '387' '298' '91' '245' '385' '257'\n",
      " '393' '168' '405' '249' '315' '75' '128' '307' '11' '436' '1' '201' '183'\n",
      " '223' '368' '336' '291' '464' '411' '481' '10' '154' '468' '410' '390'\n",
      " '440' '495' '492' '493' '434' '57' '531' '420' '483' '526' '472' '429'\n",
      " '16' '446' '34' '78' '139' '252' '270' '47' '114' '301' '193' '182' '135'\n",
      " '350' '195' '352' '355' '159' '363' '384' '360' '331' '367' '64' '406'\n",
      " '163' '414' '333' '427' '431' '430' '426' '438' '433' '418' '441' '282'\n",
      " '432' '72' '450' '180' '454' '455' '59' '451' '254' '358' '469' '165'\n",
      " '467' '510' '337' '476' '502' '527' '479' '508' '535' '302' '497' '187'\n",
      " '13' '7' '27' '14' '22' '17' '28' '42' '20' '19' '45' '37' '61' '39' '21'\n",
      " '24' '41' '50' '30' '54' '52' '12' '44' '31' '83' '32' '63' '60' '55'\n",
      " '56' '89' '87' '118' '86' '85' '210' '214' '129' '179' '138' '174' '170'\n",
      " '153' '93' '151' '119' '35' '173' '58' '53' '133' '79' '235' '192' '191'\n",
      " '236' '162' '215' '157' '287' '132' '234' '98' '77' '103' '107' '262'\n",
      " '220' '121' '205' '378' '23' '296' '290' '229' '33' '286' '276' '425'\n",
      " '484' '323' '403' '219' '394' '509' '111' '423' '4' '70' '82' '81' '74'\n",
      " '92' '99' '90' '112' '117' '106' '148' '158' '144' '211' '213' '216'\n",
      " '232' '150' '267' '227' '247' '278' '280' '285' '289' '269' '295' '265'\n",
      " '288' '122' '294' '325' '341' '344' '346' '359' '283' '364' '370' '371'\n",
      " '25' '141' '391' '397' '416' '404' '299' '197' '73' '354' '444' '408'\n",
      " '461' '388' '453' '459' '474' '475' '480' '449']\n"
     ]
    }
   ],
   "source": [
    "# Se visualiza la variable agent\n",
    "agent = hotel_booking['agent'].unique()\n",
    "print(agent)"
   ]
  },
  {
   "cell_type": "code",
   "execution_count": 27,
   "id": "1a1303cb",
   "metadata": {},
   "outputs": [
    {
     "name": "stdout",
     "output_type": "stream",
     "text": [
      "['Transient' 'Contract' 'Transient-Party' 'Group']\n"
     ]
    }
   ],
   "source": [
    "# Se visualiza la variable customer_type\n",
    "customer_type = hotel_booking['customer_type'].unique()\n",
    "print(customer_type)"
   ]
  },
  {
   "cell_type": "code",
   "execution_count": 28,
   "id": "44c34cfd",
   "metadata": {},
   "outputs": [
    {
     "name": "stdout",
     "output_type": "stream",
     "text": [
      "['Check-Out' 'Canceled' 'No-Show']\n"
     ]
    }
   ],
   "source": [
    "# Se visualiza la variable reservation_status\n",
    "reservation_status = hotel_booking['reservation_status'].unique()\n",
    "print(reservation_status)"
   ]
  },
  {
   "cell_type": "code",
   "execution_count": 29,
   "id": "cb7a2845",
   "metadata": {},
   "outputs": [
    {
     "name": "stdout",
     "output_type": "stream",
     "text": [
      "['C' 'A' 'D' 'E' 'G' 'F' 'H' 'L' 'P' 'B']\n"
     ]
    }
   ],
   "source": [
    "# Se visualiza la variable reservation_status\n",
    "reserved_room_type = hotel_booking['reserved_room_type'].unique()\n",
    "print(reserved_room_type)"
   ]
  },
  {
   "cell_type": "code",
   "execution_count": 30,
   "id": "861794a8",
   "metadata": {},
   "outputs": [
    {
     "name": "stdout",
     "output_type": "stream",
     "text": [
      "['C' 'A' 'D' 'E' 'G' 'F' 'H' 'L' 'P' 'B']\n"
     ]
    }
   ],
   "source": [
    "# Se visualiza la variable previous_cancellations\n",
    "reserved_room_type = hotel_booking['reserved_room_type'].unique()\n",
    "print(reserved_room_type) "
   ]
  },
  {
   "cell_type": "code",
   "execution_count": 31,
   "id": "9d40b404",
   "metadata": {},
   "outputs": [
    {
     "name": "stdout",
     "output_type": "stream",
     "text": [
      "['C' 'A' 'D' 'E' 'G' 'F' 'I' 'B' 'H' 'P' 'L' 'K']\n"
     ]
    }
   ],
   "source": [
    "# Se visualiza la variable previous_cancellations\n",
    "assigned_room_type = hotel_booking['assigned_room_type'].unique()\n",
    "print(assigned_room_type) "
   ]
  },
  {
   "cell_type": "code",
   "execution_count": 32,
   "id": "b7aad5e2",
   "metadata": {},
   "outputs": [
    {
     "name": "stdout",
     "output_type": "stream",
     "text": [
      "['Check-Out' 'Canceled' 'No-Show']\n"
     ]
    }
   ],
   "source": [
    "# Se visualiza la variable previous_cancellations\n",
    "reservation_status = hotel_booking['reservation_status'].unique()\n",
    "print(reservation_status) "
   ]
  },
  {
   "cell_type": "code",
   "execution_count": 33,
   "id": "e7a84d12",
   "metadata": {},
   "outputs": [
    {
     "name": "stdout",
     "output_type": "stream",
     "text": [
      "['Transient' 'Contract' 'Transient-Party' 'Group']\n"
     ]
    }
   ],
   "source": [
    "# Se visualiza la variable previous_cancellations\n",
    "customer_type = hotel_booking['customer_type'].unique()\n",
    "print(customer_type) "
   ]
  },
  {
   "cell_type": "code",
   "execution_count": 34,
   "id": "3fe63f24",
   "metadata": {},
   "outputs": [
    {
     "name": "stdout",
     "output_type": "stream",
     "text": [
      "['No Deposit' 'Refundable' 'Non Refund']\n"
     ]
    }
   ],
   "source": [
    "# Se visualiza la variable deposit_type\n",
    "deposit_type = hotel_booking['deposit_type'].unique()\n",
    "print(deposit_type) "
   ]
  },
  {
   "cell_type": "markdown",
   "id": "21feff35",
   "metadata": {},
   "source": [
    "#### Variables Booleanas"
   ]
  },
  {
   "cell_type": "code",
   "execution_count": 35,
   "id": "56ff4aec",
   "metadata": {},
   "outputs": [
    {
     "name": "stdout",
     "output_type": "stream",
     "text": [
      "[0, 1]\n",
      "Categories (2, int64): [0, 1]\n"
     ]
    }
   ],
   "source": [
    "# Se visualiza la variable is_repeated_guest\n",
    "is_repeated_guest = hotel_booking['is_repeated_guest'].unique()\n",
    "print(is_repeated_guest)"
   ]
  },
  {
   "cell_type": "code",
   "execution_count": 36,
   "id": "f25bb80e",
   "metadata": {},
   "outputs": [
    {
     "name": "stdout",
     "output_type": "stream",
     "text": [
      "[0, 1]\n",
      "Categories (2, int64): [0, 1]\n"
     ]
    }
   ],
   "source": [
    "# Se visualiza la variable is_canceled\n",
    "is_canceled = hotel_booking['is_canceled'].unique()\n",
    "print(is_canceled)"
   ]
  },
  {
   "cell_type": "markdown",
   "id": "08dca55c",
   "metadata": {},
   "source": [
    "#### Variables con fecha y numéricas"
   ]
  },
  {
   "cell_type": "code",
   "execution_count": 37,
   "id": "ea871207",
   "metadata": {},
   "outputs": [
    {
     "name": "stdout",
     "output_type": "stream",
     "text": [
      "Fecha mínima: 2014-10-17\n",
      "Fecha máxima: 2017-09-14\n"
     ]
    }
   ],
   "source": [
    "# La fecha en que se actualizó el estado de la reserva\n",
    "print(\"Fecha mínima:\", hotel_booking['reservation_status_date'].min())\n",
    "print(\"Fecha máxima:\", hotel_booking['reservation_status_date'].max())"
   ]
  },
  {
   "cell_type": "code",
   "execution_count": 38,
   "id": "663990dc",
   "metadata": {},
   "outputs": [
    {
     "name": "stdout",
     "output_type": "stream",
     "text": [
      "[ 0  1  2 10  9]\n"
     ]
    }
   ],
   "source": [
    "# Se visualiza la variable previous_cancellations\n",
    "babies = hotel_booking['babies'].unique()\n",
    "print(babies)"
   ]
  },
  {
   "cell_type": "code",
   "execution_count": 39,
   "id": "4d519849",
   "metadata": {},
   "outputs": [
    {
     "name": "stdout",
     "output_type": "stream",
     "text": [
      "['0' '1' '2' '10' '3' 'nan']\n"
     ]
    }
   ],
   "source": [
    "# Se visualiza la variable previous_cancellations\n",
    "children = hotel_booking['children'].unique()\n",
    "print(children)"
   ]
  },
  {
   "cell_type": "markdown",
   "id": "6c57126c",
   "metadata": {},
   "source": [
    "###### Eliminacion de nulos en la variable \"children\""
   ]
  },
  {
   "cell_type": "code",
   "execution_count": 40,
   "id": "2038db06",
   "metadata": {},
   "outputs": [
    {
     "name": "stdout",
     "output_type": "stream",
     "text": [
      "0      110796\n",
      "1        4861\n",
      "2        3652\n",
      "3          76\n",
      "nan         4\n",
      "10          1\n",
      "Name: children, dtype: int64\n"
     ]
    }
   ],
   "source": [
    "# se realiza una tabla de frecuencia para ver la cantidad de valores 'nan'\n",
    "children_frec = hotel_booking['children'].value_counts()\n",
    "print(children_frec)"
   ]
  },
  {
   "cell_type": "code",
   "execution_count": 41,
   "id": "090b05bc",
   "metadata": {},
   "outputs": [],
   "source": [
    "# Se eliminan los valores 'nan' \n",
    "hotel_booking = hotel_booking[hotel_booking['children'] != 'nan']\n",
    "hotel_booking['children'] = hotel_booking['children'].astype(int)"
   ]
  },
  {
   "cell_type": "code",
   "execution_count": 42,
   "id": "5286751f",
   "metadata": {},
   "outputs": [
    {
     "name": "stdout",
     "output_type": "stream",
     "text": [
      "[ 2  1  3  4 40 26 50 27 55  0 20  6  5 10]\n"
     ]
    }
   ],
   "source": [
    "# Se visualiza la variable previous_cancellations\n",
    "adults = hotel_booking['adults'].unique()\n",
    "print(adults)"
   ]
  },
  {
   "cell_type": "code",
   "execution_count": 43,
   "id": "350b437c",
   "metadata": {},
   "outputs": [
    {
     "name": "stdout",
     "output_type": "stream",
     "text": [
      "[ 0  1  2  3 26 25 14  4 24 19  5 21  6 13 11]\n"
     ]
    }
   ],
   "source": [
    "# Se visualiza la variable previous_cancellations\n",
    "previous_cancellations = hotel_booking['previous_cancellations'].unique()\n",
    "print(previous_cancellations)"
   ]
  },
  {
   "cell_type": "code",
   "execution_count": 44,
   "id": "9647d39c",
   "metadata": {},
   "outputs": [
    {
     "name": "stdout",
     "output_type": "stream",
     "text": [
      "[ 0  1  2  3  4  5  6  7  8  9 10 11 12 13 14 15 16 17 18 20 21 22 23 24\n",
      " 25 27 28 29 30 19 26 31 32 33 34 35 36 37 38 39 40 41 42 43 44 45 46 47\n",
      " 48 49 50 51 52 53 54 55 56 57 58 59 60 61 62 63 64 65 66 67 68 69 70 71\n",
      " 72]\n"
     ]
    }
   ],
   "source": [
    "# Se visualiza la variable previous_cancellations\n",
    "previous_bookings_not_canceled = hotel_booking['previous_bookings_not_canceled'].unique()\n",
    "print(previous_bookings_not_canceled) "
   ]
  },
  {
   "cell_type": "code",
   "execution_count": 45,
   "id": "b4c443b1",
   "metadata": {},
   "outputs": [
    {
     "name": "stdout",
     "output_type": "stream",
     "text": [
      "[0 1 3 2 4 5]\n"
     ]
    }
   ],
   "source": [
    "# Se visualiza la variable total_of_special_requests\n",
    "total_of_special_requests = hotel_booking['total_of_special_requests'].unique()\n",
    "print(total_of_special_requests) "
   ]
  },
  {
   "cell_type": "code",
   "execution_count": 46,
   "id": "4de82f3f",
   "metadata": {},
   "outputs": [
    {
     "name": "stdout",
     "output_type": "stream",
     "text": [
      "[0 1 2 8 3]\n"
     ]
    }
   ],
   "source": [
    "# Se visualiza la variable required_car_parking_spaces\n",
    "required_car_parking_spaces = hotel_booking['required_car_parking_spaces'].unique()\n",
    "print(required_car_parking_spaces) "
   ]
  },
  {
   "cell_type": "code",
   "execution_count": 47,
   "id": "8722c8a3",
   "metadata": {},
   "outputs": [
    {
     "name": "stdout",
     "output_type": "stream",
     "text": [
      "[ 3  4  0  1  2  5 17  6  8  7 10 16  9 13 12 20 14 15 11 21 18]\n"
     ]
    }
   ],
   "source": [
    "# Se visualiza la variable booking_changes\n",
    "booking_changes = hotel_booking['booking_changes'].unique()\n",
    "print(booking_changes) "
   ]
  },
  {
   "cell_type": "code",
   "execution_count": 48,
   "id": "66815a19",
   "metadata": {},
   "outputs": [
    {
     "name": "stdout",
     "output_type": "stream",
     "text": [
      "[  0.    75.    98.   ... 266.75 209.25 157.71]\n"
     ]
    }
   ],
   "source": [
    "# Se visualiza la variable adr\n",
    "adr = hotel_booking['adr'].unique()\n",
    "print(adr) "
   ]
  },
  {
   "cell_type": "markdown",
   "id": "7689fb0f",
   "metadata": {},
   "source": [
    "### Visualizaciones"
   ]
  },
  {
   "cell_type": "markdown",
   "id": "58bbf6b8",
   "metadata": {},
   "source": [
    "#### Cantidad de cancelaciones"
   ]
  },
  {
   "cell_type": "code",
   "execution_count": 52,
   "id": "b9c6d2b6",
   "metadata": {},
   "outputs": [
    {
     "data": {
      "image/png": "[encoded data removed]",
      "text/plain": [
       "<Figure size 640x480 with 1 Axes>"
      ]
     },
     "metadata": {},
     "output_type": "display_data"
    }
   ],
   "source": [
    "cantidad_cancel = hotel_booking['is_canceled'].value_counts()\n",
    "\n",
    "plt.barh(cantidad_cancel.index, cantidad_cancel.values)\n",
    "plt.xlabel('Cantidad')\n",
    "plt.ylabel('is_canceled')\n",
    "plt.title('Conteo de cancelaciones')\n",
    "plt.yticks([0, 1], ['No cancelado', 'Cancelado'])\n",
    "plt.show()"
   ]
  },
  {
   "cell_type": "markdown",
   "id": "9bf3f41e",
   "metadata": {},
   "source": [
    "#### Top 10 de los paises de origen de los clientes que cancelan"
   ]
  },
  {
   "cell_type": "code",
   "execution_count": null,
   "id": "cf34f20d",
   "metadata": {},
   "outputs": [],
   "source": [
    "top_countries = hotel_booking['country'].value_counts().nlargest(10).index\n",
    "filtro_top_countries = hotel_booking[hotel_booking['country'].isin(top_countries)]\n",
    "filtro_top_countries_canc = filtro_top_countries[filtro_top_countries['is_canceled'] == 1]\n",
    "\n",
    "# Gráfico\n",
    "sns.countplot(x='country', data=filtro_top_countries)\n",
    "plt.show()"
   ]
  },
  {
   "cell_type": "markdown",
   "id": "f883134b",
   "metadata": {},
   "source": [
    "#### Cancelaciones por tipo de cliente"
   ]
  },
  {
   "cell_type": "code",
   "execution_count": null,
   "id": "6e28b841",
   "metadata": {},
   "outputs": [],
   "source": [
    "sns.countplot(x='customer_type', hue='is_canceled', data=hotel_booking)\n",
    "plt.show()"
   ]
  },
  {
   "cell_type": "markdown",
   "id": "5b78a087",
   "metadata": {},
   "source": [
    "#### Relación entre variables numéricas"
   ]
  },
  {
   "cell_type": "code",
   "execution_count": null,
   "id": "b58cd3ed",
   "metadata": {},
   "outputs": [],
   "source": [
    "plt.figure(figsize=(10, 8))\n",
    "correlation_matrix = hotel_booking.corr()\n",
    "sns.heatmap(correlation_matrix, annot=True, cmap='coolwarm')\n",
    "plt.show()"
   ]
  },
  {
   "cell_type": "code",
   "execution_count": null,
   "id": "3d0dca80",
   "metadata": {},
   "outputs": [],
   "source": [
    "# Visualización de outliers \n",
    "sns.boxplot(x='lead_time', data=hotel_booking)\n",
    "plt.show()\n",
    "\n",
    "sns.boxplot(x='adr', data=hotel_booking)\n",
    "plt.show()\n"
   ]
  },
  {
   "cell_type": "code",
   "execution_count": null,
   "id": "6e11d4cd",
   "metadata": {},
   "outputs": [],
   "source": [
    "# lead_time - eliminacion de outliers \n",
    "Q1_lead_time = hotel_booking['lead_time'].quantile(0.25)\n",
    "Q3_lead_time = hotel_booking['lead_time'].quantile(0.75)\n",
    "IQR_lead_time = Q3_lead_time - Q1_lead_time\n",
    "inf_lead_time = Q1_lead_time - 1.5 * IQR_lead_time\n",
    "sup_lead_time = Q3_lead_time + 1.5 * IQR_lead_time\n",
    "hotel_booking_lead_out = hotel_booking[(hotel_booking['lead_time'] > inf_lead_time) & (hotel_booking['lead_time'] < sup_lead_time)]\n",
    "\n",
    "#print(inf_lead_time)\n",
    "#print(sup_lead_time)\n",
    "\n",
    "sns.boxplot(x='lead_time', data=hotel_booking_lead_out)\n",
    "plt.show()\n",
    "\n"
   ]
  },
  {
   "cell_type": "code",
   "execution_count": null,
   "id": "296482a1",
   "metadata": {},
   "outputs": [],
   "source": [
    "hotel_booking_lead_out['lead_time'].max()"
   ]
  },
  {
   "cell_type": "code",
   "execution_count": null,
   "id": "a80012f5",
   "metadata": {},
   "outputs": [],
   "source": [
    "# adr - eliminacion de outliers \n",
    "Q1_adr = hotel_booking['adr'].quantile(0.25)\n",
    "Q3_adr = hotel_booking['adr'].quantile(0.75)\n",
    "IQR_adr = Q3_adr - Q1_adr\n",
    "inf_adr = Q1_adr - 1.5 * IQR_adr\n",
    "sup_adr = Q3_adr + 1.5 * IQR_adr\n",
    "hotel_booking_adr_out = hotel_booking[(hotel_booking['adr'] > inf_adr) & (hotel_booking['adr'] < sup_adr) & (hotel_booking['adr'] != 0)]\n",
    "\n",
    "sns.boxplot(x='adr', data=hotel_booking_adr_out)\n",
    "plt.show()\n"
   ]
  },
  {
   "cell_type": "code",
   "execution_count": null,
   "id": "f26f4f48",
   "metadata": {},
   "outputs": [],
   "source": [
    "plt.hist(hotel_booking_adr_out['adr'], bins=20, color='blue', alpha=0.7)\n",
    "plt.xlabel('ADR')\n",
    "plt.ylabel('Frecuencia')\n",
    "plt.title('Histograma de ADR')\n",
    "plt.grid(True)\n",
    "plt.show()"
   ]
  }
 ],
 "metadata": {
  "kernelspec": {
   "display_name": "Python 3 (ipykernel)",
   "language": "python",
   "name": "python3"
  },
  "language_info": {
   "codemirror_mode": {
    "name": "ipython",
    "version": 3
   },
   "file_extension": ".py",
   "mimetype": "text/x-python",
   "name": "python",
   "nbconvert_exporter": "python",
   "pygments_lexer": "ipython3",
   "version": "3.10.9"
  }
 },
 "nbformat": 4,
 "nbformat_minor": 5
}
